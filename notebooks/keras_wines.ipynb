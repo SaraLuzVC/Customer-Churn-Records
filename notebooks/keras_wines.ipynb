{
 "cells": [
  {
   "cell_type": "markdown",
   "id": "ed4509bc-12b3-44c8-b8fe-d9fd2c15a0f6",
   "metadata": {},
   "source": [
    "# Probabilistic Bayesian Neural Networks\n",
    "https://keras.io/examples/keras_recipes/bayesian_neural_networks/"
   ]
  },
  {
   "cell_type": "markdown",
   "id": "423fff56-3f9b-4e53-baa1-b0c914824414",
   "metadata": {},
   "source": [
    "## Setup"
   ]
  },
  {
   "cell_type": "markdown",
   "id": "407ed0b6-4b26-4c8e-bef4-edfa51780894",
   "metadata": {},
   "source": [
    "### Ambiente\n",
    "Creamos un ambiente con la paquetería necesaria\n",
    "\n",
    "``conda create -n env_tf_bayes``\n",
    "\n",
    "``conda activate env_tf_bayes``\n",
    "\n",
    "``pip install tensorflow-probability``\n",
    "\n",
    "``pip install tensorflow-datasets``"
   ]
  },
  {
   "cell_type": "markdown",
   "id": "cd76a638-eb0c-4d0b-8cf4-2bd7212040ad",
   "metadata": {},
   "source": [
    "### Bibliotecas"
   ]
  },
  {
   "cell_type": "code",
   "execution_count": 1,
   "id": "dff99bd0-ad24-4d72-b1f0-a9cacbe1636a",
   "metadata": {},
   "outputs": [
    {
     "name": "stdout",
     "output_type": "stream",
     "text": [
      "WARNING:tensorflow:From C:\\Users\\Sara_Valenzuela\\AppData\\Local\\miniconda3\\Lib\\site-packages\\tf_keras\\src\\losses.py:2976: The name tf.losses.sparse_softmax_cross_entropy is deprecated. Please use tf.compat.v1.losses.sparse_softmax_cross_entropy instead.\n",
      "\n",
      "WARNING:tensorflow:From C:\\Users\\Sara_Valenzuela\\AppData\\Local\\miniconda3\\Lib\\site-packages\\tensorflow_probability\\python\\internal\\backend\\numpy\\_utils.py:48: The name tf.logging.TaskLevelStatusMessage is deprecated. Please use tf.compat.v1.logging.TaskLevelStatusMessage instead.\n",
      "\n",
      "WARNING:tensorflow:From C:\\Users\\Sara_Valenzuela\\AppData\\Local\\miniconda3\\Lib\\site-packages\\tensorflow_probability\\python\\internal\\backend\\numpy\\_utils.py:48: The name tf.control_flow_v2_enabled is deprecated. Please use tf.compat.v1.control_flow_v2_enabled instead.\n",
      "\n"
     ]
    }
   ],
   "source": [
    "import numpy as np\n",
    "import tensorflow as tf\n",
    "from tensorflow import keras\n",
    "from tensorflow.keras import layers\n",
    "import tensorflow_datasets as tfds\n",
    "import tensorflow_probability as tfp\n",
    "import pandas as pd"
   ]
  },
  {
   "cell_type": "markdown",
   "id": "352766fd-377b-4b38-81a8-c7eda67ab1c2",
   "metadata": {},
   "source": [
    "## Create training and evaluation datasets"
   ]
  },
  {
   "cell_type": "code",
   "execution_count": 2,
   "id": "d5c956c9-04ba-411e-9a72-2af4af0b465e",
   "metadata": {},
   "outputs": [],
   "source": [
    "############# Código original\n",
    "# def get_train_and_test_splits(train_size, batch_size=1):\n",
    "#     # We prefetch with a buffer the same size as the dataset because th dataset\n",
    "#     # is very small and fits into memory.\n",
    "#     dataset = (\n",
    "#         tfds.load(name=\"wine_quality\", as_supervised=True, split=\"train\")\n",
    "#         .map(lambda x, y: (x, tf.cast(y, tf.float32)))\n",
    "#         .prefetch(buffer_size=dataset_size)\n",
    "#         .cache()\n",
    "#     )\n",
    "#     # We shuffle with a buffer the same size as the dataset.\n",
    "#     train_dataset = (\n",
    "#         dataset.take(train_size).shuffle(buffer_size=train_size).batch(batch_size)\n",
    "#     )\n",
    "#     test_dataset = dataset.skip(train_size).batch(batch_size)\n",
    "\n",
    "#     return train_dataset, test_dataset"
   ]
  },
  {
   "cell_type": "code",
   "execution_count": 3,
   "id": "2712abff-b5af-408f-96a1-6d9672dad5bd",
   "metadata": {},
   "outputs": [],
   "source": [
    "# def get_train_and_test_splits(train_size, batch_size=1):\n",
    "#     # Importar datos\n",
    "#     data = pd.read_csv(\"./../data/train_wine.csv\")\n",
    "\n",
    "#     # VARIABLE OBJETIVO Y VARIABLES INDEPENDIENTES\n",
    "#     features = data.drop(columns=[\"quality\", \"id\"])\n",
    "#     labels = data[\"quality\"]\n",
    "\n",
    "#     # Convertir a tensores de TensorFlow\n",
    "#     features_dict = {col: tf.convert_to_tensor(features[col].values, dtype=tf.float32) for col in features.columns}\n",
    "#     labels_tensor = tf.convert_to_tensor(labels.values, dtype=tf.float32)\n",
    "\n",
    "#     # Crear dataset de TensorFlow\n",
    "#     dataset = tf.data.Dataset.from_tensor_slices((features_dict, labels_tensor))\n",
    "#     dataset = dataset.cache().shuffle(len(data)).prefetch(buffer_size=tf.data.AUTOTUNE)\n",
    "\n",
    "#     # Definir train_size y test_size correctamente\n",
    "#     test_size = len(data) - train_size  # Corregir tamaño del dataset de prueba\n",
    "\n",
    "#     train_dataset = dataset.take(train_size).batch(batch_size)\n",
    "#     test_dataset = dataset.skip(train_size).take(test_size).batch(batch_size)  # Agregar `take(test_size)`\n",
    "\n",
    "#     return train_dataset, test_dataset"
   ]
  },
  {
   "cell_type": "code",
   "execution_count": 38,
   "id": "a231df57-8eaf-4542-a273-f8c41c7982c8",
   "metadata": {},
   "outputs": [],
   "source": [
    "def get_train_and_test_splits(train_size, batch_size=1):\n",
    "    data = pd.read_csv(\"./../data/train_wine.csv\")\n",
    "\n",
    "    # Define features and labels\n",
    "    features = data.drop(columns=[\"id\", \"quality\"])\n",
    "    labels = data[\"quality\"]\n",
    "\n",
    "    # Convert to dict of tf.Tensors\n",
    "    features_dict = {\n",
    "        col: tf.convert_to_tensor(features[col].values.reshape(-1, 1), dtype=tf.float32)\n",
    "        for col in features.columns\n",
    "    }\n",
    "    labels_tensor = tf.convert_to_tensor(labels.values.reshape(-1, 1), dtype=tf.float32)\n",
    "\n",
    "    # Create tf.data.Dataset\n",
    "    dataset = tf.data.Dataset.from_tensor_slices((features_dict, labels_tensor))\n",
    "    dataset = dataset.shuffle(len(data)).cache().prefetch(buffer_size=tf.data.AUTOTUNE)\n",
    "\n",
    "    test_size = len(data) - train_size\n",
    "\n",
    "    train_dataset = dataset.take(train_size).batch(batch_size)\n",
    "    test_dataset = dataset.skip(train_size).take(test_size).batch(batch_size)\n",
    "\n",
    "    return train_dataset, test_dataset\n"
   ]
  },
  {
   "cell_type": "markdown",
   "id": "2010149e-dd28-4b75-8285-f5c200af8974",
   "metadata": {},
   "source": [
    "## Compile, train, and evaluate the model"
   ]
  },
  {
   "cell_type": "code",
   "execution_count": 39,
   "id": "b401298f-9c6c-484a-9134-d84a11ba4702",
   "metadata": {},
   "outputs": [],
   "source": [
    "hidden_units = [8, 8]\n",
    "learning_rate = 0.001\n",
    "\n",
    "\n",
    "def run_experiment(model, loss, train_dataset, test_dataset):\n",
    "\n",
    "    model.compile(\n",
    "        optimizer=keras.optimizers.RMSprop(learning_rate=learning_rate),\n",
    "        loss=loss,\n",
    "        metrics=[keras.metrics.RootMeanSquaredError(name=\"rmse\")],\n",
    "    )\n",
    "\n",
    "    print(\"Start training the model...\")\n",
    "    model.fit(train_dataset, epochs=num_epochs, validation_data=test_dataset)\n",
    "    print(\"Model training finished.\")\n",
    "    _, rmse = model.evaluate(train_dataset, verbose=0)\n",
    "    print(f\"Train RMSE: {round(rmse, 3)}\")\n",
    "\n",
    "    print(\"Evaluating model performance...\")\n",
    "    _, rmse = model.evaluate(test_dataset, verbose=0)\n",
    "    print(f\"Test RMSE: {round(rmse, 3)}\")"
   ]
  },
  {
   "cell_type": "markdown",
   "id": "6681bc6a-9c4b-467b-8bf8-4e07d7510051",
   "metadata": {},
   "source": [
    "## Create model inputs"
   ]
  },
  {
   "cell_type": "code",
   "execution_count": 40,
   "id": "582d7b4d-811b-4b3e-8295-ebcd92c96299",
   "metadata": {},
   "outputs": [],
   "source": [
    "FEATURE_NAMES = [\n",
    "    \"fixed acidity\",\n",
    "    \"volatile acidity\",\n",
    "    \"citric acid\",\n",
    "    \"residual sugar\",\n",
    "    \"chlorides\",\n",
    "    \"free sulfur dioxide\",\n",
    "    \"total sulfur dioxide\",\n",
    "    \"density\",\n",
    "    \"pH\",\n",
    "    \"sulphates\",\n",
    "    \"alcohol\",\n",
    "]\n",
    "\n",
    "\n",
    "def create_model_inputs():\n",
    "    inputs = {}\n",
    "    for feature_name in FEATURE_NAMES:\n",
    "        inputs[feature_name] = layers.Input(\n",
    "            name=feature_name, shape=(1,), dtype=tf.float32\n",
    "        )\n",
    "    return inputs"
   ]
  },
  {
   "cell_type": "markdown",
   "id": "16dcde19-1e82-45a8-a07b-4b98f159c1c8",
   "metadata": {},
   "source": [
    "## Experiment 1: standard neural network\n",
    "We create a standard deterministic neural network model as a baseline."
   ]
  },
  {
   "cell_type": "code",
   "execution_count": 41,
   "id": "c027c0d3-2544-4450-b8e5-d40352cbf7d6",
   "metadata": {},
   "outputs": [],
   "source": [
    "def create_baseline_model():\n",
    "    inputs = create_model_inputs()\n",
    "    input_values = [value for _, value in sorted(inputs.items())]\n",
    "    features = keras.layers.concatenate(input_values)\n",
    "    features = layers.BatchNormalization()(features)\n",
    "\n",
    "    # Create hidden layers with deterministic weights using the Dense layer.\n",
    "    for units in hidden_units:\n",
    "        features = layers.Dense(units, activation=\"sigmoid\")(features)\n",
    "    # The output is deterministic: a single point estimate.\n",
    "    outputs = layers.Dense(units=1)(features)\n",
    "\n",
    "    model = keras.Model(inputs=inputs, outputs=outputs)\n",
    "    return model"
   ]
  },
  {
   "cell_type": "markdown",
   "id": "030848d0-0581-4ba6-b4eb-4d119081404b",
   "metadata": {},
   "source": [
    "Let's split the wine dataset into training and test sets, with 85% and 15% of the examples, respectively."
   ]
  },
  {
   "cell_type": "code",
   "execution_count": 42,
   "id": "b87fe715-722f-4aae-932a-181b1d7e1b08",
   "metadata": {},
   "outputs": [],
   "source": [
    "dataset_size = 4898\n",
    "batch_size = 256\n",
    "train_size = int(dataset_size * 0.85)\n",
    "train_dataset, test_dataset = get_train_and_test_splits(train_size, batch_size)"
   ]
  },
  {
   "cell_type": "markdown",
   "id": "f26dd921-5d67-4c74-ae1b-958fe7027957",
   "metadata": {},
   "source": [
    "Now let's train the baseline model. We use the MeanSquaredError as the loss function."
   ]
  },
  {
   "cell_type": "code",
   "execution_count": 43,
   "id": "4eccc3ca-c75c-4892-94cf-e5551765c5b0",
   "metadata": {
    "scrolled": true
   },
   "outputs": [
    {
     "name": "stdout",
     "output_type": "stream",
     "text": [
      "Start training the model...\n",
      "Epoch 1/100\n",
      "\u001b[1m17/17\u001b[0m \u001b[32m━━━━━━━━━━━━━━━━━━━━\u001b[0m\u001b[37m\u001b[0m \u001b[1m3s\u001b[0m 57ms/step - loss: 33.2223 - rmse: 5.7636 - val_loss: 30.3474 - val_rmse: 5.5088\n",
      "Epoch 2/100\n",
      "\u001b[1m17/17\u001b[0m \u001b[32m━━━━━━━━━━━━━━━━━━━━\u001b[0m\u001b[37m\u001b[0m \u001b[1m0s\u001b[0m 21ms/step - loss: 30.7395 - rmse: 5.5443 - val_loss: 28.5035 - val_rmse: 5.3389\n",
      "Epoch 3/100\n",
      "\u001b[1m17/17\u001b[0m \u001b[32m━━━━━━━━━━━━━━━━━━━━\u001b[0m\u001b[37m\u001b[0m \u001b[1m0s\u001b[0m 21ms/step - loss: 28.9490 - rmse: 5.3804 - val_loss: 26.7583 - val_rmse: 5.1728\n",
      "Epoch 4/100\n",
      "\u001b[1m17/17\u001b[0m \u001b[32m━━━━━━━━━━━━━━━━━━━━\u001b[0m\u001b[37m\u001b[0m \u001b[1m0s\u001b[0m 20ms/step - loss: 27.2485 - rmse: 5.2200 - val_loss: 25.0850 - val_rmse: 5.0085\n",
      "Epoch 5/100\n",
      "\u001b[1m17/17\u001b[0m \u001b[32m━━━━━━━━━━━━━━━━━━━━\u001b[0m\u001b[37m\u001b[0m \u001b[1m0s\u001b[0m 22ms/step - loss: 25.6046 - rmse: 5.0601 - val_loss: 23.4732 - val_rmse: 4.8449\n",
      "Epoch 6/100\n",
      "\u001b[1m17/17\u001b[0m \u001b[32m━━━━━━━━━━━━━━━━━━━━\u001b[0m\u001b[37m\u001b[0m \u001b[1m0s\u001b[0m 16ms/step - loss: 24.0158 - rmse: 4.9005 - val_loss: 21.9260 - val_rmse: 4.6825\n",
      "Epoch 7/100\n",
      "\u001b[1m17/17\u001b[0m \u001b[32m━━━━━━━━━━━━━━━━━━━━\u001b[0m\u001b[37m\u001b[0m \u001b[1m0s\u001b[0m 16ms/step - loss: 22.4843 - rmse: 4.7417 - val_loss: 20.4508 - val_rmse: 4.5223\n",
      "Epoch 8/100\n",
      "\u001b[1m17/17\u001b[0m \u001b[32m━━━━━━━━━━━━━━━━━━━━\u001b[0m\u001b[37m\u001b[0m \u001b[1m0s\u001b[0m 17ms/step - loss: 21.0115 - rmse: 4.5838 - val_loss: 19.0505 - val_rmse: 4.3647\n",
      "Epoch 9/100\n",
      "\u001b[1m17/17\u001b[0m \u001b[32m━━━━━━━━━━━━━━━━━━━━\u001b[0m\u001b[37m\u001b[0m \u001b[1m0s\u001b[0m 17ms/step - loss: 19.5993 - rmse: 4.4271 - val_loss: 17.7337 - val_rmse: 4.2111\n",
      "Epoch 10/100\n",
      "\u001b[1m17/17\u001b[0m \u001b[32m━━━━━━━━━━━━━━━━━━━━\u001b[0m\u001b[37m\u001b[0m \u001b[1m0s\u001b[0m 18ms/step - loss: 18.2514 - rmse: 4.2721 - val_loss: 16.5016 - val_rmse: 4.0622\n",
      "Epoch 11/100\n",
      "\u001b[1m17/17\u001b[0m \u001b[32m━━━━━━━━━━━━━━━━━━━━\u001b[0m\u001b[37m\u001b[0m \u001b[1m1s\u001b[0m 29ms/step - loss: 16.9707 - rmse: 4.1195 - val_loss: 15.3512 - val_rmse: 3.9181\n",
      "Epoch 12/100\n",
      "\u001b[1m17/17\u001b[0m \u001b[32m━━━━━━━━━━━━━━━━━━━━\u001b[0m\u001b[37m\u001b[0m \u001b[1m1s\u001b[0m 28ms/step - loss: 15.7594 - rmse: 3.9698 - val_loss: 14.2772 - val_rmse: 3.7785\n",
      "Epoch 13/100\n",
      "\u001b[1m17/17\u001b[0m \u001b[32m━━━━━━━━━━━━━━━━━━━━\u001b[0m\u001b[37m\u001b[0m \u001b[1m1s\u001b[0m 18ms/step - loss: 14.6188 - rmse: 3.8234 - val_loss: 13.2747 - val_rmse: 3.6434\n",
      "Epoch 14/100\n",
      "\u001b[1m17/17\u001b[0m \u001b[32m━━━━━━━━━━━━━━━━━━━━\u001b[0m\u001b[37m\u001b[0m \u001b[1m0s\u001b[0m 18ms/step - loss: 13.5492 - rmse: 3.6809 - val_loss: 12.3394 - val_rmse: 3.5127\n",
      "Epoch 15/100\n",
      "\u001b[1m17/17\u001b[0m \u001b[32m━━━━━━━━━━━━━━━━━━━━\u001b[0m\u001b[37m\u001b[0m \u001b[1m0s\u001b[0m 19ms/step - loss: 12.5501 - rmse: 3.5426 - val_loss: 11.4672 - val_rmse: 3.3863\n",
      "Epoch 16/100\n",
      "\u001b[1m17/17\u001b[0m \u001b[32m━━━━━━━━━━━━━━━━━━━━\u001b[0m\u001b[37m\u001b[0m \u001b[1m1s\u001b[0m 29ms/step - loss: 11.6198 - rmse: 3.4087 - val_loss: 10.6543 - val_rmse: 3.2641\n",
      "Epoch 17/100\n",
      "\u001b[1m17/17\u001b[0m \u001b[32m━━━━━━━━━━━━━━━━━━━━\u001b[0m\u001b[37m\u001b[0m \u001b[1m1s\u001b[0m 18ms/step - loss: 10.7558 - rmse: 3.2796 - val_loss: 9.8969 - val_rmse: 3.1459\n",
      "Epoch 18/100\n",
      "\u001b[1m17/17\u001b[0m \u001b[32m━━━━━━━━━━━━━━━━━━━━\u001b[0m\u001b[37m\u001b[0m \u001b[1m0s\u001b[0m 17ms/step - loss: 9.9549 - rmse: 3.1551 - val_loss: 9.1909 - val_rmse: 3.0317\n",
      "Epoch 19/100\n",
      "\u001b[1m17/17\u001b[0m \u001b[32m━━━━━━━━━━━━━━━━━━━━\u001b[0m\u001b[37m\u001b[0m \u001b[1m1s\u001b[0m 22ms/step - loss: 9.2126 - rmse: 3.0352 - val_loss: 8.5302 - val_rmse: 2.9206\n",
      "Epoch 20/100\n",
      "\u001b[1m17/17\u001b[0m \u001b[32m━━━━━━━━━━━━━━━━━━━━\u001b[0m\u001b[37m\u001b[0m \u001b[1m1s\u001b[0m 18ms/step - loss: 8.5213 - rmse: 2.9191 - val_loss: 7.9067 - val_rmse: 2.8119\n",
      "Epoch 21/100\n",
      "\u001b[1m17/17\u001b[0m \u001b[32m━━━━━━━━━━━━━━━━━━━━\u001b[0m\u001b[37m\u001b[0m \u001b[1m0s\u001b[0m 17ms/step - loss: 7.8737 - rmse: 2.8060 - val_loss: 7.3186 - val_rmse: 2.7053\n",
      "Epoch 22/100\n",
      "\u001b[1m17/17\u001b[0m \u001b[32m━━━━━━━━━━━━━━━━━━━━\u001b[0m\u001b[37m\u001b[0m \u001b[1m0s\u001b[0m 19ms/step - loss: 7.2676 - rmse: 2.6958 - val_loss: 6.7637 - val_rmse: 2.6007\n",
      "Epoch 23/100\n",
      "\u001b[1m17/17\u001b[0m \u001b[32m━━━━━━━━━━━━━━━━━━━━\u001b[0m\u001b[37m\u001b[0m \u001b[1m0s\u001b[0m 19ms/step - loss: 6.6997 - rmse: 2.5883 - val_loss: 6.2397 - val_rmse: 2.4979\n",
      "Epoch 24/100\n",
      "\u001b[1m17/17\u001b[0m \u001b[32m━━━━━━━━━━━━━━━━━━━━\u001b[0m\u001b[37m\u001b[0m \u001b[1m1s\u001b[0m 29ms/step - loss: 6.1666 - rmse: 2.4832 - val_loss: 5.7442 - val_rmse: 2.3967\n",
      "Epoch 25/100\n",
      "\u001b[1m17/17\u001b[0m \u001b[32m━━━━━━━━━━━━━━━━━━━━\u001b[0m\u001b[37m\u001b[0m \u001b[1m1s\u001b[0m 19ms/step - loss: 5.6653 - rmse: 2.3801 - val_loss: 5.2753 - val_rmse: 2.2968\n",
      "Epoch 26/100\n",
      "\u001b[1m17/17\u001b[0m \u001b[32m━━━━━━━━━━━━━━━━━━━━\u001b[0m\u001b[37m\u001b[0m \u001b[1m0s\u001b[0m 17ms/step - loss: 5.1932 - rmse: 2.2788 - val_loss: 4.8313 - val_rmse: 2.1980\n",
      "Epoch 27/100\n",
      "\u001b[1m17/17\u001b[0m \u001b[32m━━━━━━━━━━━━━━━━━━━━\u001b[0m\u001b[37m\u001b[0m \u001b[1m0s\u001b[0m 18ms/step - loss: 4.7477 - rmse: 2.1789 - val_loss: 4.4101 - val_rmse: 2.1000\n",
      "Epoch 28/100\n",
      "\u001b[1m17/17\u001b[0m \u001b[32m━━━━━━━━━━━━━━━━━━━━\u001b[0m\u001b[37m\u001b[0m \u001b[1m1s\u001b[0m 19ms/step - loss: 4.3263 - rmse: 2.0799 - val_loss: 4.0103 - val_rmse: 2.0026\n",
      "Epoch 29/100\n",
      "\u001b[1m17/17\u001b[0m \u001b[32m━━━━━━━━━━━━━━━━━━━━\u001b[0m\u001b[37m\u001b[0m \u001b[1m0s\u001b[0m 17ms/step - loss: 3.9275 - rmse: 1.9817 - val_loss: 3.6317 - val_rmse: 1.9057\n",
      "Epoch 30/100\n",
      "\u001b[1m17/17\u001b[0m \u001b[32m━━━━━━━━━━━━━━━━━━━━\u001b[0m\u001b[37m\u001b[0m \u001b[1m0s\u001b[0m 18ms/step - loss: 3.5509 - rmse: 1.8843 - val_loss: 3.2744 - val_rmse: 1.8095\n",
      "Epoch 31/100\n",
      "\u001b[1m17/17\u001b[0m \u001b[32m━━━━━━━━━━━━━━━━━━━━\u001b[0m\u001b[37m\u001b[0m \u001b[1m1s\u001b[0m 30ms/step - loss: 3.1962 - rmse: 1.7877 - val_loss: 2.9385 - val_rmse: 1.7142\n",
      "Epoch 32/100\n",
      "\u001b[1m17/17\u001b[0m \u001b[32m━━━━━━━━━━━━━━━━━━━━\u001b[0m\u001b[37m\u001b[0m \u001b[1m0s\u001b[0m 27ms/step - loss: 2.8635 - rmse: 1.6921 - val_loss: 2.6242 - val_rmse: 1.6199\n",
      "Epoch 33/100\n",
      "\u001b[1m17/17\u001b[0m \u001b[32m━━━━━━━━━━━━━━━━━━━━\u001b[0m\u001b[37m\u001b[0m \u001b[1m1s\u001b[0m 29ms/step - loss: 2.5529 - rmse: 1.5977 - val_loss: 2.3317 - val_rmse: 1.5270\n",
      "Epoch 34/100\n",
      "\u001b[1m17/17\u001b[0m \u001b[32m━━━━━━━━━━━━━━━━━━━━\u001b[0m\u001b[37m\u001b[0m \u001b[1m0s\u001b[0m 18ms/step - loss: 2.2645 - rmse: 1.5047 - val_loss: 2.0616 - val_rmse: 1.4358\n",
      "Epoch 35/100\n",
      "\u001b[1m17/17\u001b[0m \u001b[32m━━━━━━━━━━━━━━━━━━━━\u001b[0m\u001b[37m\u001b[0m \u001b[1m0s\u001b[0m 18ms/step - loss: 1.9987 - rmse: 1.4137 - val_loss: 1.8142 - val_rmse: 1.3469\n",
      "Epoch 36/100\n",
      "\u001b[1m17/17\u001b[0m \u001b[32m━━━━━━━━━━━━━━━━━━━━\u001b[0m\u001b[37m\u001b[0m \u001b[1m1s\u001b[0m 28ms/step - loss: 1.7558 - rmse: 1.3250 - val_loss: 1.5899 - val_rmse: 1.2609\n",
      "Epoch 37/100\n",
      "\u001b[1m17/17\u001b[0m \u001b[32m━━━━━━━━━━━━━━━━━━━━\u001b[0m\u001b[37m\u001b[0m \u001b[1m1s\u001b[0m 19ms/step - loss: 1.5364 - rmse: 1.2394 - val_loss: 1.3894 - val_rmse: 1.1787\n",
      "Epoch 38/100\n",
      "\u001b[1m17/17\u001b[0m \u001b[32m━━━━━━━━━━━━━━━━━━━━\u001b[0m\u001b[37m\u001b[0m \u001b[1m0s\u001b[0m 19ms/step - loss: 1.3408 - rmse: 1.1579 - val_loss: 1.2131 - val_rmse: 1.1014\n",
      "Epoch 39/100\n",
      "\u001b[1m17/17\u001b[0m \u001b[32m━━━━━━━━━━━━━━━━━━━━\u001b[0m\u001b[37m\u001b[0m \u001b[1m0s\u001b[0m 20ms/step - loss: 1.1697 - rmse: 1.0815 - val_loss: 1.0616 - val_rmse: 1.0303\n",
      "Epoch 40/100\n",
      "\u001b[1m17/17\u001b[0m \u001b[32m━━━━━━━━━━━━━━━━━━━━\u001b[0m\u001b[37m\u001b[0m \u001b[1m0s\u001b[0m 29ms/step - loss: 1.0235 - rmse: 1.0116 - val_loss: 0.9352 - val_rmse: 0.9671\n",
      "Epoch 41/100\n",
      "\u001b[1m17/17\u001b[0m \u001b[32m━━━━━━━━━━━━━━━━━━━━\u001b[0m\u001b[37m\u001b[0m \u001b[1m0s\u001b[0m 19ms/step - loss: 0.9026 - rmse: 0.9500 - val_loss: 0.8343 - val_rmse: 0.9134\n",
      "Epoch 42/100\n",
      "\u001b[1m17/17\u001b[0m \u001b[32m━━━━━━━━━━━━━━━━━━━━\u001b[0m\u001b[37m\u001b[0m \u001b[1m1s\u001b[0m 28ms/step - loss: 0.8072 - rmse: 0.8984 - val_loss: 0.7588 - val_rmse: 0.8711\n",
      "Epoch 43/100\n",
      "\u001b[1m17/17\u001b[0m \u001b[32m━━━━━━━━━━━━━━━━━━━━\u001b[0m\u001b[37m\u001b[0m \u001b[1m0s\u001b[0m 21ms/step - loss: 0.7371 - rmse: 0.8585 - val_loss: 0.7080 - val_rmse: 0.8414\n",
      "Epoch 44/100\n",
      "\u001b[1m17/17\u001b[0m \u001b[32m━━━━━━━━━━━━━━━━━━━━\u001b[0m\u001b[37m\u001b[0m \u001b[1m1s\u001b[0m 19ms/step - loss: 0.6914 - rmse: 0.8314 - val_loss: 0.6798 - val_rmse: 0.8245\n",
      "Epoch 45/100\n",
      "\u001b[1m17/17\u001b[0m \u001b[32m━━━━━━━━━━━━━━━━━━━━\u001b[0m\u001b[37m\u001b[0m \u001b[1m0s\u001b[0m 18ms/step - loss: 0.6675 - rmse: 0.8169 - val_loss: 0.6695 - val_rmse: 0.8182\n",
      "Epoch 46/100\n",
      "\u001b[1m17/17\u001b[0m \u001b[32m━━━━━━━━━━━━━━━━━━━━\u001b[0m\u001b[37m\u001b[0m \u001b[1m1s\u001b[0m 20ms/step - loss: 0.6596 - rmse: 0.8121 - val_loss: 0.6682 - val_rmse: 0.8174\n",
      "Epoch 47/100\n",
      "\u001b[1m17/17\u001b[0m \u001b[32m━━━━━━━━━━━━━━━━━━━━\u001b[0m\u001b[37m\u001b[0m \u001b[1m1s\u001b[0m 20ms/step - loss: 0.6587 - rmse: 0.8115 - val_loss: 0.6683 - val_rmse: 0.8175\n",
      "Epoch 48/100\n",
      "\u001b[1m17/17\u001b[0m \u001b[32m━━━━━━━━━━━━━━━━━━━━\u001b[0m\u001b[37m\u001b[0m \u001b[1m1s\u001b[0m 19ms/step - loss: 0.6588 - rmse: 0.8116 - val_loss: 0.6683 - val_rmse: 0.8175\n",
      "Epoch 49/100\n",
      "\u001b[1m17/17\u001b[0m \u001b[32m━━━━━━━━━━━━━━━━━━━━\u001b[0m\u001b[37m\u001b[0m \u001b[1m0s\u001b[0m 18ms/step - loss: 0.6587 - rmse: 0.8115 - val_loss: 0.6683 - val_rmse: 0.8175\n",
      "Epoch 50/100\n",
      "\u001b[1m17/17\u001b[0m \u001b[32m━━━━━━━━━━━━━━━━━━━━\u001b[0m\u001b[37m\u001b[0m \u001b[1m1s\u001b[0m 29ms/step - loss: 0.6587 - rmse: 0.8115 - val_loss: 0.6683 - val_rmse: 0.8175\n",
      "Epoch 51/100\n",
      "\u001b[1m17/17\u001b[0m \u001b[32m━━━━━━━━━━━━━━━━━━━━\u001b[0m\u001b[37m\u001b[0m \u001b[1m1s\u001b[0m 19ms/step - loss: 0.6587 - rmse: 0.8115 - val_loss: 0.6683 - val_rmse: 0.8175\n",
      "Epoch 52/100\n",
      "\u001b[1m17/17\u001b[0m \u001b[32m━━━━━━━━━━━━━━━━━━━━\u001b[0m\u001b[37m\u001b[0m \u001b[1m1s\u001b[0m 30ms/step - loss: 0.6586 - rmse: 0.8115 - val_loss: 0.6683 - val_rmse: 0.8175\n",
      "Epoch 53/100\n",
      "\u001b[1m17/17\u001b[0m \u001b[32m━━━━━━━━━━━━━━━━━━━━\u001b[0m\u001b[37m\u001b[0m \u001b[1m1s\u001b[0m 20ms/step - loss: 0.6585 - rmse: 0.8114 - val_loss: 0.6682 - val_rmse: 0.8174\n",
      "Epoch 54/100\n",
      "\u001b[1m17/17\u001b[0m \u001b[32m━━━━━━━━━━━━━━━━━━━━\u001b[0m\u001b[37m\u001b[0m \u001b[1m1s\u001b[0m 28ms/step - loss: 0.6584 - rmse: 0.8114 - val_loss: 0.6682 - val_rmse: 0.8174\n",
      "Epoch 55/100\n",
      "\u001b[1m17/17\u001b[0m \u001b[32m━━━━━━━━━━━━━━━━━━━━\u001b[0m\u001b[37m\u001b[0m \u001b[1m1s\u001b[0m 30ms/step - loss: 0.6583 - rmse: 0.8113 - val_loss: 0.6681 - val_rmse: 0.8174\n",
      "Epoch 56/100\n",
      "\u001b[1m17/17\u001b[0m \u001b[32m━━━━━━━━━━━━━━━━━━━━\u001b[0m\u001b[37m\u001b[0m \u001b[1m0s\u001b[0m 28ms/step - loss: 0.6582 - rmse: 0.8112 - val_loss: 0.6680 - val_rmse: 0.8173\n",
      "Epoch 57/100\n",
      "\u001b[1m17/17\u001b[0m \u001b[32m━━━━━━━━━━━━━━━━━━━━\u001b[0m\u001b[37m\u001b[0m \u001b[1m1s\u001b[0m 29ms/step - loss: 0.6580 - rmse: 0.8111 - val_loss: 0.6679 - val_rmse: 0.8172\n",
      "Epoch 58/100\n",
      "\u001b[1m17/17\u001b[0m \u001b[32m━━━━━━━━━━━━━━━━━━━━\u001b[0m\u001b[37m\u001b[0m \u001b[1m1s\u001b[0m 19ms/step - loss: 0.6578 - rmse: 0.8110 - val_loss: 0.6677 - val_rmse: 0.8171\n",
      "Epoch 59/100\n",
      "\u001b[1m17/17\u001b[0m \u001b[32m━━━━━━━━━━━━━━━━━━━━\u001b[0m\u001b[37m\u001b[0m \u001b[1m1s\u001b[0m 20ms/step - loss: 0.6576 - rmse: 0.8108 - val_loss: 0.6675 - val_rmse: 0.8170\n",
      "Epoch 60/100\n",
      "\u001b[1m17/17\u001b[0m \u001b[32m━━━━━━━━━━━━━━━━━━━━\u001b[0m\u001b[37m\u001b[0m \u001b[1m0s\u001b[0m 19ms/step - loss: 0.6573 - rmse: 0.8106 - val_loss: 0.6672 - val_rmse: 0.8168\n",
      "Epoch 61/100\n",
      "\u001b[1m17/17\u001b[0m \u001b[32m━━━━━━━━━━━━━━━━━━━━\u001b[0m\u001b[37m\u001b[0m \u001b[1m1s\u001b[0m 19ms/step - loss: 0.6569 - rmse: 0.8104 - val_loss: 0.6668 - val_rmse: 0.8166\n",
      "Epoch 62/100\n",
      "\u001b[1m17/17\u001b[0m \u001b[32m━━━━━━━━━━━━━━━━━━━━\u001b[0m\u001b[37m\u001b[0m \u001b[1m0s\u001b[0m 18ms/step - loss: 0.6564 - rmse: 0.8101 - val_loss: 0.6663 - val_rmse: 0.8163\n",
      "Epoch 63/100\n",
      "\u001b[1m17/17\u001b[0m \u001b[32m━━━━━━━━━━━━━━━━━━━━\u001b[0m\u001b[37m\u001b[0m \u001b[1m1s\u001b[0m 28ms/step - loss: 0.6558 - rmse: 0.8097 - val_loss: 0.6657 - val_rmse: 0.8159\n",
      "Epoch 64/100\n",
      "\u001b[1m17/17\u001b[0m \u001b[32m━━━━━━━━━━━━━━━━━━━━\u001b[0m\u001b[37m\u001b[0m \u001b[1m1s\u001b[0m 28ms/step - loss: 0.6550 - rmse: 0.8092 - val_loss: 0.6649 - val_rmse: 0.8154\n",
      "Epoch 65/100\n",
      "\u001b[1m17/17\u001b[0m \u001b[32m━━━━━━━━━━━━━━━━━━━━\u001b[0m\u001b[37m\u001b[0m \u001b[1m0s\u001b[0m 18ms/step - loss: 0.6541 - rmse: 0.8087 - val_loss: 0.6639 - val_rmse: 0.8148\n",
      "Epoch 66/100\n",
      "\u001b[1m17/17\u001b[0m \u001b[32m━━━━━━━━━━━━━━━━━━━━\u001b[0m\u001b[37m\u001b[0m \u001b[1m0s\u001b[0m 18ms/step - loss: 0.6529 - rmse: 0.8079 - val_loss: 0.6626 - val_rmse: 0.8140\n",
      "Epoch 67/100\n",
      "\u001b[1m17/17\u001b[0m \u001b[32m━━━━━━━━━━━━━━━━━━━━\u001b[0m\u001b[37m\u001b[0m \u001b[1m0s\u001b[0m 18ms/step - loss: 0.6514 - rmse: 0.8070 - val_loss: 0.6610 - val_rmse: 0.8130\n",
      "Epoch 68/100\n",
      "\u001b[1m17/17\u001b[0m \u001b[32m━━━━━━━━━━━━━━━━━━━━\u001b[0m\u001b[37m\u001b[0m \u001b[1m0s\u001b[0m 18ms/step - loss: 0.6495 - rmse: 0.8059 - val_loss: 0.6590 - val_rmse: 0.8118\n",
      "Epoch 69/100\n",
      "\u001b[1m17/17\u001b[0m \u001b[32m━━━━━━━━━━━━━━━━━━━━\u001b[0m\u001b[37m\u001b[0m \u001b[1m0s\u001b[0m 19ms/step - loss: 0.6473 - rmse: 0.8044 - val_loss: 0.6566 - val_rmse: 0.8103\n",
      "Epoch 70/100\n",
      "\u001b[1m17/17\u001b[0m \u001b[32m━━━━━━━━━━━━━━━━━━━━\u001b[0m\u001b[37m\u001b[0m \u001b[1m0s\u001b[0m 19ms/step - loss: 0.6445 - rmse: 0.8027 - val_loss: 0.6536 - val_rmse: 0.8085\n",
      "Epoch 71/100\n",
      "\u001b[1m17/17\u001b[0m \u001b[32m━━━━━━━━━━━━━━━━━━━━\u001b[0m\u001b[37m\u001b[0m \u001b[1m1s\u001b[0m 28ms/step - loss: 0.6411 - rmse: 0.8006 - val_loss: 0.6501 - val_rmse: 0.8063\n",
      "Epoch 72/100\n",
      "\u001b[1m17/17\u001b[0m \u001b[32m━━━━━━━━━━━━━━━━━━━━\u001b[0m\u001b[37m\u001b[0m \u001b[1m0s\u001b[0m 19ms/step - loss: 0.6371 - rmse: 0.7981 - val_loss: 0.6459 - val_rmse: 0.8037\n",
      "Epoch 73/100\n",
      "\u001b[1m17/17\u001b[0m \u001b[32m━━━━━━━━━━━━━━━━━━━━\u001b[0m\u001b[37m\u001b[0m \u001b[1m1s\u001b[0m 18ms/step - loss: 0.6324 - rmse: 0.7952 - val_loss: 0.6411 - val_rmse: 0.8007\n",
      "Epoch 74/100\n",
      "\u001b[1m17/17\u001b[0m \u001b[32m━━━━━━━━━━━━━━━━━━━━\u001b[0m\u001b[37m\u001b[0m \u001b[1m1s\u001b[0m 21ms/step - loss: 0.6270 - rmse: 0.7917 - val_loss: 0.6357 - val_rmse: 0.7973\n",
      "Epoch 75/100\n",
      "\u001b[1m17/17\u001b[0m \u001b[32m━━━━━━━━━━━━━━━━━━━━\u001b[0m\u001b[37m\u001b[0m \u001b[1m1s\u001b[0m 19ms/step - loss: 0.6209 - rmse: 0.7879 - val_loss: 0.6298 - val_rmse: 0.7936\n",
      "Epoch 76/100\n",
      "\u001b[1m17/17\u001b[0m \u001b[32m━━━━━━━━━━━━━━━━━━━━\u001b[0m\u001b[37m\u001b[0m \u001b[1m1s\u001b[0m 17ms/step - loss: 0.6143 - rmse: 0.7836 - val_loss: 0.6235 - val_rmse: 0.7896\n",
      "Epoch 77/100\n",
      "\u001b[1m17/17\u001b[0m \u001b[32m━━━━━━━━━━━━━━━━━━━━\u001b[0m\u001b[37m\u001b[0m \u001b[1m0s\u001b[0m 28ms/step - loss: 0.6073 - rmse: 0.7792 - val_loss: 0.6170 - val_rmse: 0.7855\n",
      "Epoch 78/100\n",
      "\u001b[1m17/17\u001b[0m \u001b[32m━━━━━━━━━━━━━━━━━━━━\u001b[0m\u001b[37m\u001b[0m \u001b[1m1s\u001b[0m 21ms/step - loss: 0.6001 - rmse: 0.7746 - val_loss: 0.6106 - val_rmse: 0.7814\n",
      "Epoch 79/100\n",
      "\u001b[1m17/17\u001b[0m \u001b[32m━━━━━━━━━━━━━━━━━━━━\u001b[0m\u001b[37m\u001b[0m \u001b[1m0s\u001b[0m 18ms/step - loss: 0.5930 - rmse: 0.7700 - val_loss: 0.6044 - val_rmse: 0.7774\n",
      "Epoch 80/100\n",
      "\u001b[1m17/17\u001b[0m \u001b[32m━━━━━━━━━━━━━━━━━━━━\u001b[0m\u001b[37m\u001b[0m \u001b[1m0s\u001b[0m 19ms/step - loss: 0.5862 - rmse: 0.7655 - val_loss: 0.5986 - val_rmse: 0.7737\n",
      "Epoch 81/100\n",
      "\u001b[1m17/17\u001b[0m \u001b[32m━━━━━━━━━━━━━━━━━━━━\u001b[0m\u001b[37m\u001b[0m \u001b[1m0s\u001b[0m 20ms/step - loss: 0.5798 - rmse: 0.7613 - val_loss: 0.5934 - val_rmse: 0.7703\n",
      "Epoch 82/100\n",
      "\u001b[1m17/17\u001b[0m \u001b[32m━━━━━━━━━━━━━━━━━━━━\u001b[0m\u001b[37m\u001b[0m \u001b[1m0s\u001b[0m 18ms/step - loss: 0.5740 - rmse: 0.7575 - val_loss: 0.5887 - val_rmse: 0.7673\n",
      "Epoch 83/100\n",
      "\u001b[1m17/17\u001b[0m \u001b[32m━━━━━━━━━━━━━━━━━━━━\u001b[0m\u001b[37m\u001b[0m \u001b[1m0s\u001b[0m 18ms/step - loss: 0.5688 - rmse: 0.7541 - val_loss: 0.5847 - val_rmse: 0.7647\n",
      "Epoch 84/100\n",
      "\u001b[1m17/17\u001b[0m \u001b[32m━━━━━━━━━━━━━━━━━━━━\u001b[0m\u001b[37m\u001b[0m \u001b[1m0s\u001b[0m 18ms/step - loss: 0.5642 - rmse: 0.7510 - val_loss: 0.5813 - val_rmse: 0.7624\n",
      "Epoch 85/100\n",
      "\u001b[1m17/17\u001b[0m \u001b[32m━━━━━━━━━━━━━━━━━━━━\u001b[0m\u001b[37m\u001b[0m \u001b[1m1s\u001b[0m 20ms/step - loss: 0.5603 - rmse: 0.7484 - val_loss: 0.5784 - val_rmse: 0.7605\n",
      "Epoch 86/100\n",
      "\u001b[1m17/17\u001b[0m \u001b[32m━━━━━━━━━━━━━━━━━━━━\u001b[0m\u001b[37m\u001b[0m \u001b[1m0s\u001b[0m 19ms/step - loss: 0.5570 - rmse: 0.7461 - val_loss: 0.5759 - val_rmse: 0.7589\n",
      "Epoch 87/100\n",
      "\u001b[1m17/17\u001b[0m \u001b[32m━━━━━━━━━━━━━━━━━━━━\u001b[0m\u001b[37m\u001b[0m \u001b[1m0s\u001b[0m 20ms/step - loss: 0.5541 - rmse: 0.7442 - val_loss: 0.5738 - val_rmse: 0.7575\n",
      "Epoch 88/100\n",
      "\u001b[1m17/17\u001b[0m \u001b[32m━━━━━━━━━━━━━━━━━━━━\u001b[0m\u001b[37m\u001b[0m \u001b[1m0s\u001b[0m 19ms/step - loss: 0.5516 - rmse: 0.7425 - val_loss: 0.5721 - val_rmse: 0.7563\n",
      "Epoch 89/100\n",
      "\u001b[1m17/17\u001b[0m \u001b[32m━━━━━━━━━━━━━━━━━━━━\u001b[0m\u001b[37m\u001b[0m \u001b[1m1s\u001b[0m 18ms/step - loss: 0.5494 - rmse: 0.7411 - val_loss: 0.5705 - val_rmse: 0.7553\n",
      "Epoch 90/100\n",
      "\u001b[1m17/17\u001b[0m \u001b[32m━━━━━━━━━━━━━━━━━━━━\u001b[0m\u001b[37m\u001b[0m \u001b[1m1s\u001b[0m 19ms/step - loss: 0.5476 - rmse: 0.7398 - val_loss: 0.5692 - val_rmse: 0.7544\n",
      "Epoch 91/100\n",
      "\u001b[1m17/17\u001b[0m \u001b[32m━━━━━━━━━━━━━━━━━━━━\u001b[0m\u001b[37m\u001b[0m \u001b[1m0s\u001b[0m 20ms/step - loss: 0.5459 - rmse: 0.7387 - val_loss: 0.5680 - val_rmse: 0.7536\n",
      "Epoch 92/100\n",
      "\u001b[1m17/17\u001b[0m \u001b[32m━━━━━━━━━━━━━━━━━━━━\u001b[0m\u001b[37m\u001b[0m \u001b[1m1s\u001b[0m 20ms/step - loss: 0.5444 - rmse: 0.7377 - val_loss: 0.5669 - val_rmse: 0.7529\n",
      "Epoch 93/100\n",
      "\u001b[1m17/17\u001b[0m \u001b[32m━━━━━━━━━━━━━━━━━━━━\u001b[0m\u001b[37m\u001b[0m \u001b[1m0s\u001b[0m 19ms/step - loss: 0.5431 - rmse: 0.7368 - val_loss: 0.5659 - val_rmse: 0.7523\n",
      "Epoch 94/100\n",
      "\u001b[1m17/17\u001b[0m \u001b[32m━━━━━━━━━━━━━━━━━━━━\u001b[0m\u001b[37m\u001b[0m \u001b[1m0s\u001b[0m 18ms/step - loss: 0.5419 - rmse: 0.7360 - val_loss: 0.5650 - val_rmse: 0.7517\n",
      "Epoch 95/100\n",
      "\u001b[1m17/17\u001b[0m \u001b[32m━━━━━━━━━━━━━━━━━━━━\u001b[0m\u001b[37m\u001b[0m \u001b[1m0s\u001b[0m 28ms/step - loss: 0.5408 - rmse: 0.7352 - val_loss: 0.5642 - val_rmse: 0.7511\n",
      "Epoch 96/100\n",
      "\u001b[1m17/17\u001b[0m \u001b[32m━━━━━━━━━━━━━━━━━━━━\u001b[0m\u001b[37m\u001b[0m \u001b[1m1s\u001b[0m 19ms/step - loss: 0.5398 - rmse: 0.7346 - val_loss: 0.5634 - val_rmse: 0.7506\n",
      "Epoch 97/100\n",
      "\u001b[1m17/17\u001b[0m \u001b[32m━━━━━━━━━━━━━━━━━━━━\u001b[0m\u001b[37m\u001b[0m \u001b[1m1s\u001b[0m 28ms/step - loss: 0.5389 - rmse: 0.7339 - val_loss: 0.5627 - val_rmse: 0.7501\n",
      "Epoch 98/100\n",
      "\u001b[1m17/17\u001b[0m \u001b[32m━━━━━━━━━━━━━━━━━━━━\u001b[0m\u001b[37m\u001b[0m \u001b[1m1s\u001b[0m 19ms/step - loss: 0.5381 - rmse: 0.7334 - val_loss: 0.5620 - val_rmse: 0.7497\n",
      "Epoch 99/100\n",
      "\u001b[1m17/17\u001b[0m \u001b[32m━━━━━━━━━━━━━━━━━━━━\u001b[0m\u001b[37m\u001b[0m \u001b[1m1s\u001b[0m 30ms/step - loss: 0.5373 - rmse: 0.7328 - val_loss: 0.5614 - val_rmse: 0.7493\n",
      "Epoch 100/100\n",
      "\u001b[1m17/17\u001b[0m \u001b[32m━━━━━━━━━━━━━━━━━━━━\u001b[0m\u001b[37m\u001b[0m \u001b[1m1s\u001b[0m 29ms/step - loss: 0.5365 - rmse: 0.7323 - val_loss: 0.5608 - val_rmse: 0.7489\n",
      "Model training finished.\n",
      "Train RMSE: 0.73\n",
      "Evaluating model performance...\n",
      "Test RMSE: 0.749\n"
     ]
    }
   ],
   "source": [
    "num_epochs = 100\n",
    "mse_loss = keras.losses.MeanSquaredError()\n",
    "baseline_model = create_baseline_model()\n",
    "run_experiment(baseline_model, mse_loss, train_dataset, test_dataset)"
   ]
  },
  {
   "cell_type": "markdown",
   "id": "d24ebfdd-2c65-433e-a57e-d1fa1b79e48c",
   "metadata": {},
   "source": [
    "We take a sample from the test set use the model to obtain predictions for them. Note that since the baseline model is deterministic, we get a single a point estimate prediction for each test example, with no information about the uncertainty of the model nor the prediction."
   ]
  },
  {
   "cell_type": "code",
   "execution_count": 44,
   "id": "ca262b29-cf2d-4c39-a9a4-3b9c670a3dae",
   "metadata": {},
   "outputs": [
    {
     "name": "stdout",
     "output_type": "stream",
     "text": [
      "Predicted: 6.0 - Actual: [7.]\n",
      "Predicted: 5.6 - Actual: [6.]\n",
      "Predicted: 5.3 - Actual: [5.]\n",
      "Predicted: 5.4 - Actual: [6.]\n",
      "Predicted: 6.1 - Actual: [6.]\n",
      "Predicted: 5.4 - Actual: [5.]\n",
      "Predicted: 6.1 - Actual: [5.]\n",
      "Predicted: 5.4 - Actual: [4.]\n",
      "Predicted: 5.4 - Actual: [5.]\n",
      "Predicted: 6.0 - Actual: [6.]\n"
     ]
    }
   ],
   "source": [
    "sample = 10\n",
    "examples, targets = list(test_dataset.unbatch().shuffle(batch_size * 10).batch(sample))[\n",
    "    0\n",
    "]\n",
    "\n",
    "predicted = baseline_model(examples).numpy()\n",
    "for idx in range(sample):\n",
    "    print(f\"Predicted: {round(float(predicted[idx][0]), 1)} - Actual: {targets[idx]}\")"
   ]
  },
  {
   "cell_type": "markdown",
   "id": "7fe2f284-a339-45a7-ae35-2cf3201f33ff",
   "metadata": {},
   "source": [
    "## Experiment 2: Bayesian neural network (BNN)\n",
    "\n",
    "The object of the Bayesian approach for modeling neural networks is to capture the epistemic uncertainty, which is uncertainty about the model fitness, due to limited training data.\n",
    "\n",
    "The idea is that, instead of learning specific weight (and bias) values in the neural network, the Bayesian approach learns weight distributions - from which we can sample to produce an output for a given input - to encode weight uncertainty.\n",
    "\n",
    "Thus, we need to define prior and the posterior distributions of these weights, and the training process is to learn the parameters of these distributions."
   ]
  },
  {
   "cell_type": "code",
   "execution_count": 50,
   "id": "f1bc6068-c1ac-416c-81f8-44a18a506e0b",
   "metadata": {},
   "outputs": [],
   "source": [
    "# # Define the prior weight distribution as Normal of mean=0 and stddev=1.\n",
    "# # Note that, in this example, the we prior distribution is not trainable,\n",
    "# # as we fix its parameters.\n",
    "# def prior(kernel_size, bias_size, dtype=None):\n",
    "#     n = kernel_size + bias_size\n",
    "#     prior_model = keras.Sequential(\n",
    "#         [\n",
    "#             tfp.layers.DistributionLambda(\n",
    "#                 lambda t: tfp.distributions.MultivariateNormalDiag(\n",
    "#                     loc=tf.zeros(n), scale_diag=tf.ones(n)\n",
    "#                 )\n",
    "#             )\n",
    "#         ]\n",
    "#     )\n",
    "#     return prior_model\n",
    "\n",
    "\n",
    "# # Define variational posterior weight distribution as multivariate Gaussian.\n",
    "# # Note that the learnable parameters for this distribution are the means,\n",
    "# # variances, and covariances.\n",
    "# def posterior(kernel_size, bias_size, dtype=None):\n",
    "#     n = kernel_size + bias_size\n",
    "#     posterior_model = keras.Sequential(\n",
    "#         [\n",
    "#             tfp.layers.VariableLayer(\n",
    "#                 tfp.layers.MultivariateNormalTriL.params_size(n), dtype=dtype\n",
    "#             ),\n",
    "#             tfp.layers.MultivariateNormalTriL(n),\n",
    "#         ]\n",
    "#     )\n",
    "#     return posterior_model\n"
   ]
  },
  {
   "cell_type": "code",
   "execution_count": 58,
   "id": "a4465fb9-31bd-4c24-be24-9a5d46d97f6a",
   "metadata": {},
   "outputs": [],
   "source": [
    "import tensorflow_probability as tfp\n",
    "tfd = tfp.distributions\n",
    "\n",
    "def prior_fn(dtype, shape, name, trainable, add_variable_fn):\n",
    "    return tfd.Independent(\n",
    "        tfd.Normal(loc=tf.zeros(shape, dtype=dtype), scale=1.0),\n",
    "        reinterpreted_batch_ndims=len(shape)\n",
    "    )\n",
    "\n",
    "def posterior_fn(dtype, shape, name, trainable, add_variable_fn):\n",
    "    loc = add_variable_fn(\n",
    "        name=name + '_loc',\n",
    "        shape=shape,\n",
    "        initializer=tf.initializers.random_normal(stddev=0.1),\n",
    "        dtype=dtype,\n",
    "        trainable=True\n",
    "    )\n",
    "    scale_raw = add_variable_fn(\n",
    "        name=name + '_scale_raw',\n",
    "        shape=shape,\n",
    "        initializer=tf.initializers.random_normal(mean=-3.0, stddev=0.1),\n",
    "        dtype=dtype,\n",
    "        trainable=True\n",
    "    )\n",
    "    scale = tf.nn.softplus(scale_raw)\n",
    "    return tfd.Independent(\n",
    "        tfd.Normal(loc=loc, scale=scale),\n",
    "        reinterpreted_batch_ndims=len(shape)\n",
    "    )\n"
   ]
  },
  {
   "cell_type": "code",
   "execution_count": 61,
   "id": "314650e4-f68d-44ea-919f-1a0e6a003f85",
   "metadata": {},
   "outputs": [],
   "source": [
    "import tensorflow as tf\n",
    "from tensorflow import keras\n",
    "from tensorflow.keras import layers\n",
    "\n",
    "FEATURE_NAMES = [\n",
    "    \"fixed acidity\", \"volatile acidity\", \"citric acid\", \"residual sugar\",\n",
    "    \"chlorides\", \"free sulfur dioxide\", \"total sulfur dioxide\", \"density\",\n",
    "    \"pH\", \"sulphates\", \"alcohol\"\n",
    "]\n",
    "\n",
    "# Dummy batch of data (2 samples)\n",
    "sample_inputs = {\n",
    "    name: tf.constant([[1.0], [2.0]], dtype=tf.float32)\n",
    "    for name in FEATURE_NAMES\n",
    "}\n",
    "sample_labels = tf.constant([[5.0], [6.0]], dtype=tf.float32)\n",
    "dataset = tf.data.Dataset.from_tensor_slices((sample_inputs, sample_labels)).batch(2)\n"
   ]
  },
  {
   "cell_type": "code",
   "execution_count": 62,
   "id": "ede86ea6-d595-4c3d-ac95-119b925ce3ee",
   "metadata": {},
   "outputs": [],
   "source": [
    "def create_model_inputs():\n",
    "    return {\n",
    "        name: layers.Input(name=name, shape=(1,), dtype=tf.float32)\n",
    "        for name in FEATURE_NAMES\n",
    "    }\n",
    "\n",
    "def create_bnn_model(train_size=2):\n",
    "    inputs = create_model_inputs()\n",
    "    input_values = [inputs[name] for name in FEATURE_NAMES]\n",
    "    x = layers.concatenate(input_values)\n",
    "    x = layers.BatchNormalization()(x, training=False)\n",
    "\n",
    "    x = tfp.layers.DenseVariational(\n",
    "        units=8,\n",
    "        make_prior_fn=prior_fn,\n",
    "        make_posterior_fn=posterior_fn,\n",
    "        kl_weight=1.0 / train_size,\n",
    "        activation=\"sigmoid\"\n",
    "    )(x)\n",
    "\n",
    "    outputs = layers.Dense(1)(x)\n",
    "    return keras.Model(inputs=inputs, outputs=outputs)\n"
   ]
  },
  {
   "cell_type": "code",
   "execution_count": 63,
   "id": "d5c35f42-8f65-48d7-a4ab-ad6cad816842",
   "metadata": {},
   "outputs": [
    {
     "ename": "AttributeError",
     "evalue": "'tuple' object has no attribute 'rank'",
     "output_type": "error",
     "traceback": [
      "\u001b[1;31m---------------------------------------------------------------------------\u001b[0m",
      "\u001b[1;31mAttributeError\u001b[0m                            Traceback (most recent call last)",
      "Cell \u001b[1;32mIn[63], line 1\u001b[0m\n\u001b[1;32m----> 1\u001b[0m model \u001b[38;5;241m=\u001b[39m create_bnn_model()\n\u001b[0;32m      2\u001b[0m example \u001b[38;5;241m=\u001b[39m \u001b[38;5;28mnext\u001b[39m(\u001b[38;5;28miter\u001b[39m(dataset))\n\u001b[0;32m      3\u001b[0m output \u001b[38;5;241m=\u001b[39m model(example[\u001b[38;5;241m0\u001b[39m])  \u001b[38;5;66;03m# 🧨 If this works, you're good!\u001b[39;00m\n",
      "Cell \u001b[1;32mIn[62], line 13\u001b[0m, in \u001b[0;36mcreate_bnn_model\u001b[1;34m(train_size)\u001b[0m\n\u001b[0;32m     10\u001b[0m x \u001b[38;5;241m=\u001b[39m layers\u001b[38;5;241m.\u001b[39mconcatenate(input_values)\n\u001b[0;32m     11\u001b[0m x \u001b[38;5;241m=\u001b[39m layers\u001b[38;5;241m.\u001b[39mBatchNormalization()(x, training\u001b[38;5;241m=\u001b[39m\u001b[38;5;28;01mFalse\u001b[39;00m)\n\u001b[1;32m---> 13\u001b[0m x \u001b[38;5;241m=\u001b[39m tfp\u001b[38;5;241m.\u001b[39mlayers\u001b[38;5;241m.\u001b[39mDenseVariational(\n\u001b[0;32m     14\u001b[0m     units\u001b[38;5;241m=\u001b[39m\u001b[38;5;241m8\u001b[39m,\n\u001b[0;32m     15\u001b[0m     make_prior_fn\u001b[38;5;241m=\u001b[39mprior_fn,\n\u001b[0;32m     16\u001b[0m     make_posterior_fn\u001b[38;5;241m=\u001b[39mposterior_fn,\n\u001b[0;32m     17\u001b[0m     kl_weight\u001b[38;5;241m=\u001b[39m\u001b[38;5;241m1.0\u001b[39m \u001b[38;5;241m/\u001b[39m train_size,\n\u001b[0;32m     18\u001b[0m     activation\u001b[38;5;241m=\u001b[39m\u001b[38;5;124m\"\u001b[39m\u001b[38;5;124msigmoid\u001b[39m\u001b[38;5;124m\"\u001b[39m\n\u001b[0;32m     19\u001b[0m )(x)\n\u001b[0;32m     21\u001b[0m outputs \u001b[38;5;241m=\u001b[39m layers\u001b[38;5;241m.\u001b[39mDense(\u001b[38;5;241m1\u001b[39m)(x)\n\u001b[0;32m     22\u001b[0m \u001b[38;5;28;01mreturn\u001b[39;00m keras\u001b[38;5;241m.\u001b[39mModel(inputs\u001b[38;5;241m=\u001b[39minputs, outputs\u001b[38;5;241m=\u001b[39moutputs)\n",
      "File \u001b[1;32m~\\AppData\\Local\\miniconda3\\Lib\\site-packages\\tf_keras\\src\\utils\\traceback_utils.py:70\u001b[0m, in \u001b[0;36mfilter_traceback.<locals>.error_handler\u001b[1;34m(*args, **kwargs)\u001b[0m\n\u001b[0;32m     67\u001b[0m     filtered_tb \u001b[38;5;241m=\u001b[39m _process_traceback_frames(e\u001b[38;5;241m.\u001b[39m__traceback__)\n\u001b[0;32m     68\u001b[0m     \u001b[38;5;66;03m# To get the full stack trace, call:\u001b[39;00m\n\u001b[0;32m     69\u001b[0m     \u001b[38;5;66;03m# `tf.debugging.disable_traceback_filtering()`\u001b[39;00m\n\u001b[1;32m---> 70\u001b[0m     \u001b[38;5;28;01mraise\u001b[39;00m e\u001b[38;5;241m.\u001b[39mwith_traceback(filtered_tb) \u001b[38;5;28;01mfrom\u001b[39;00m \u001b[38;5;28;01mNone\u001b[39;00m\n\u001b[0;32m     71\u001b[0m \u001b[38;5;28;01mfinally\u001b[39;00m:\n\u001b[0;32m     72\u001b[0m     \u001b[38;5;28;01mdel\u001b[39;00m filtered_tb\n",
      "File \u001b[1;32m~\\AppData\\Local\\miniconda3\\Lib\\site-packages\\tf_keras\\src\\engine\\input_spec.py:251\u001b[0m, in \u001b[0;36massert_input_compatibility\u001b[1;34m(input_spec, inputs, layer_name)\u001b[0m\n\u001b[0;32m    244\u001b[0m         \u001b[38;5;28;01mraise\u001b[39;00m \u001b[38;5;167;01mValueError\u001b[39;00m(\n\u001b[0;32m    245\u001b[0m             \u001b[38;5;124mf\u001b[39m\u001b[38;5;124m'\u001b[39m\u001b[38;5;124mInput \u001b[39m\u001b[38;5;132;01m{\u001b[39;00minput_index\u001b[38;5;132;01m}\u001b[39;00m\u001b[38;5;124m of layer \u001b[39m\u001b[38;5;124m\"\u001b[39m\u001b[38;5;132;01m{\u001b[39;00mlayer_name\u001b[38;5;132;01m}\u001b[39;00m\u001b[38;5;124m\"\u001b[39m\u001b[38;5;124m \u001b[39m\u001b[38;5;124m'\u001b[39m\n\u001b[0;32m    246\u001b[0m             \u001b[38;5;124m\"\u001b[39m\u001b[38;5;124mis incompatible with the layer: \u001b[39m\u001b[38;5;124m\"\u001b[39m\n\u001b[0;32m    247\u001b[0m             \u001b[38;5;124mf\u001b[39m\u001b[38;5;124m\"\u001b[39m\u001b[38;5;124mexpected max_ndim=\u001b[39m\u001b[38;5;132;01m{\u001b[39;00mspec\u001b[38;5;241m.\u001b[39mmax_ndim\u001b[38;5;132;01m}\u001b[39;00m\u001b[38;5;124m, \u001b[39m\u001b[38;5;124m\"\u001b[39m\n\u001b[0;32m    248\u001b[0m             \u001b[38;5;124mf\u001b[39m\u001b[38;5;124m\"\u001b[39m\u001b[38;5;124mfound ndim=\u001b[39m\u001b[38;5;132;01m{\u001b[39;00mndim\u001b[38;5;132;01m}\u001b[39;00m\u001b[38;5;124m\"\u001b[39m\n\u001b[0;32m    249\u001b[0m         )\n\u001b[0;32m    250\u001b[0m \u001b[38;5;28;01mif\u001b[39;00m spec\u001b[38;5;241m.\u001b[39mmin_ndim \u001b[38;5;129;01mis\u001b[39;00m \u001b[38;5;129;01mnot\u001b[39;00m \u001b[38;5;28;01mNone\u001b[39;00m:\n\u001b[1;32m--> 251\u001b[0m     ndim \u001b[38;5;241m=\u001b[39m x\u001b[38;5;241m.\u001b[39mshape\u001b[38;5;241m.\u001b[39mrank\n\u001b[0;32m    252\u001b[0m     \u001b[38;5;28;01mif\u001b[39;00m ndim \u001b[38;5;129;01mis\u001b[39;00m \u001b[38;5;129;01mnot\u001b[39;00m \u001b[38;5;28;01mNone\u001b[39;00m \u001b[38;5;129;01mand\u001b[39;00m ndim \u001b[38;5;241m<\u001b[39m spec\u001b[38;5;241m.\u001b[39mmin_ndim:\n\u001b[0;32m    253\u001b[0m         \u001b[38;5;28;01mraise\u001b[39;00m \u001b[38;5;167;01mValueError\u001b[39;00m(\n\u001b[0;32m    254\u001b[0m             \u001b[38;5;124mf\u001b[39m\u001b[38;5;124m'\u001b[39m\u001b[38;5;124mInput \u001b[39m\u001b[38;5;132;01m{\u001b[39;00minput_index\u001b[38;5;132;01m}\u001b[39;00m\u001b[38;5;124m of layer \u001b[39m\u001b[38;5;124m\"\u001b[39m\u001b[38;5;132;01m{\u001b[39;00mlayer_name\u001b[38;5;132;01m}\u001b[39;00m\u001b[38;5;124m\"\u001b[39m\u001b[38;5;124m \u001b[39m\u001b[38;5;124m'\u001b[39m\n\u001b[0;32m    255\u001b[0m             \u001b[38;5;124m\"\u001b[39m\u001b[38;5;124mis incompatible with the layer: \u001b[39m\u001b[38;5;124m\"\u001b[39m\n\u001b[1;32m   (...)\u001b[0m\n\u001b[0;32m    258\u001b[0m             \u001b[38;5;124mf\u001b[39m\u001b[38;5;124m\"\u001b[39m\u001b[38;5;124mFull shape received: \u001b[39m\u001b[38;5;132;01m{\u001b[39;00m\u001b[38;5;28mtuple\u001b[39m(shape)\u001b[38;5;132;01m}\u001b[39;00m\u001b[38;5;124m\"\u001b[39m\n\u001b[0;32m    259\u001b[0m         )\n",
      "\u001b[1;31mAttributeError\u001b[0m: 'tuple' object has no attribute 'rank'"
     ]
    }
   ],
   "source": [
    "model = create_bnn_model()\n",
    "example = next(iter(dataset))\n",
    "output = model(example[0])  # 🧨 If this works, you're good!\n",
    "print(\"✅ Output shape:\", output.shape)"
   ]
  },
  {
   "cell_type": "markdown",
   "id": "95c424fd-0b0f-41ca-93d4-d20c69d50ef1",
   "metadata": {},
   "source": [
    "We use the tfp.layers.DenseVariational layer instead of the standard keras.layers.Dense layer in the neural network model."
   ]
  },
  {
   "cell_type": "code",
   "execution_count": 59,
   "id": "8ed2328d-2011-484b-8c2f-e8b2f8ddcf7a",
   "metadata": {},
   "outputs": [],
   "source": [
    "def create_bnn_model(train_size):\n",
    "    inputs = create_model_inputs()\n",
    "\n",
    "    input_values = [inputs[feature] for feature in FEATURE_NAMES]\n",
    "    features = keras.layers.concatenate(input_values)\n",
    "    features = layers.BatchNormalization()(features, training=False)  # <-- CRITICAL FIX\n",
    "\n",
    "    for units in hidden_units:\n",
    "        features = tfp.layers.DenseVariational(\n",
    "            units=units,\n",
    "            make_prior_fn=prior_fn,           # use your fixed versions!\n",
    "            make_posterior_fn=posterior_fn,\n",
    "            kl_weight=1.0 / train_size,\n",
    "            activation=\"sigmoid\",\n",
    "        )(features)\n",
    "\n",
    "    outputs = layers.Dense(units=1)(features)\n",
    "    model = keras.Model(inputs=inputs, outputs=outputs)\n",
    "    return model"
   ]
  },
  {
   "cell_type": "markdown",
   "id": "2cb86cf0-3710-410c-9eb8-ff11cf10f06d",
   "metadata": {},
   "source": [
    "The epistemic uncertainty can be reduced as we increase the size of the training data. That is, the more data the BNN model sees, the more it is certain about its estimates for the weights (distribution parameters). Let's test this behaviour by training the BNN model on a small subset of the training set, and then on the full training set, to compare the output variances."
   ]
  },
  {
   "cell_type": "markdown",
   "id": "053b8cc8-d151-4fac-a084-be31e9f88cd2",
   "metadata": {},
   "source": [
    "### Train BNN with a small training subset."
   ]
  },
  {
   "cell_type": "code",
   "execution_count": 60,
   "id": "6089a28b-9527-4e8b-b3c8-137e4127e6b1",
   "metadata": {},
   "outputs": [
    {
     "ename": "AttributeError",
     "evalue": "'tuple' object has no attribute 'rank'",
     "output_type": "error",
     "traceback": [
      "\u001b[1;31m---------------------------------------------------------------------------\u001b[0m",
      "\u001b[1;31mAttributeError\u001b[0m                            Traceback (most recent call last)",
      "Cell \u001b[1;32mIn[60], line 5\u001b[0m\n\u001b[0;32m      2\u001b[0m train_sample_size \u001b[38;5;241m=\u001b[39m \u001b[38;5;28mint\u001b[39m(train_size \u001b[38;5;241m*\u001b[39m \u001b[38;5;241m0.3\u001b[39m)\n\u001b[0;32m      3\u001b[0m small_train_dataset \u001b[38;5;241m=\u001b[39m train_dataset\u001b[38;5;241m.\u001b[39munbatch()\u001b[38;5;241m.\u001b[39mtake(train_sample_size)\u001b[38;5;241m.\u001b[39mbatch(batch_size)\n\u001b[1;32m----> 5\u001b[0m bnn_model_small \u001b[38;5;241m=\u001b[39m create_bnn_model(train_sample_size)\n\u001b[0;32m      6\u001b[0m run_experiment(bnn_model_small, mse_loss, small_train_dataset, test_dataset)\n",
      "Cell \u001b[1;32mIn[59], line 9\u001b[0m, in \u001b[0;36mcreate_bnn_model\u001b[1;34m(train_size)\u001b[0m\n\u001b[0;32m      6\u001b[0m features \u001b[38;5;241m=\u001b[39m layers\u001b[38;5;241m.\u001b[39mBatchNormalization()(features, training\u001b[38;5;241m=\u001b[39m\u001b[38;5;28;01mFalse\u001b[39;00m)  \u001b[38;5;66;03m# <-- CRITICAL FIX\u001b[39;00m\n\u001b[0;32m      8\u001b[0m \u001b[38;5;28;01mfor\u001b[39;00m units \u001b[38;5;129;01min\u001b[39;00m hidden_units:\n\u001b[1;32m----> 9\u001b[0m     features \u001b[38;5;241m=\u001b[39m tfp\u001b[38;5;241m.\u001b[39mlayers\u001b[38;5;241m.\u001b[39mDenseVariational(\n\u001b[0;32m     10\u001b[0m         units\u001b[38;5;241m=\u001b[39munits,\n\u001b[0;32m     11\u001b[0m         make_prior_fn\u001b[38;5;241m=\u001b[39mprior_fn,           \u001b[38;5;66;03m# use your fixed versions!\u001b[39;00m\n\u001b[0;32m     12\u001b[0m         make_posterior_fn\u001b[38;5;241m=\u001b[39mposterior_fn,\n\u001b[0;32m     13\u001b[0m         kl_weight\u001b[38;5;241m=\u001b[39m\u001b[38;5;241m1.0\u001b[39m \u001b[38;5;241m/\u001b[39m train_size,\n\u001b[0;32m     14\u001b[0m         activation\u001b[38;5;241m=\u001b[39m\u001b[38;5;124m\"\u001b[39m\u001b[38;5;124msigmoid\u001b[39m\u001b[38;5;124m\"\u001b[39m,\n\u001b[0;32m     15\u001b[0m     )(features)\n\u001b[0;32m     17\u001b[0m outputs \u001b[38;5;241m=\u001b[39m layers\u001b[38;5;241m.\u001b[39mDense(units\u001b[38;5;241m=\u001b[39m\u001b[38;5;241m1\u001b[39m)(features)\n\u001b[0;32m     18\u001b[0m model \u001b[38;5;241m=\u001b[39m keras\u001b[38;5;241m.\u001b[39mModel(inputs\u001b[38;5;241m=\u001b[39minputs, outputs\u001b[38;5;241m=\u001b[39moutputs)\n",
      "File \u001b[1;32m~\\AppData\\Local\\miniconda3\\Lib\\site-packages\\tf_keras\\src\\utils\\traceback_utils.py:70\u001b[0m, in \u001b[0;36mfilter_traceback.<locals>.error_handler\u001b[1;34m(*args, **kwargs)\u001b[0m\n\u001b[0;32m     67\u001b[0m     filtered_tb \u001b[38;5;241m=\u001b[39m _process_traceback_frames(e\u001b[38;5;241m.\u001b[39m__traceback__)\n\u001b[0;32m     68\u001b[0m     \u001b[38;5;66;03m# To get the full stack trace, call:\u001b[39;00m\n\u001b[0;32m     69\u001b[0m     \u001b[38;5;66;03m# `tf.debugging.disable_traceback_filtering()`\u001b[39;00m\n\u001b[1;32m---> 70\u001b[0m     \u001b[38;5;28;01mraise\u001b[39;00m e\u001b[38;5;241m.\u001b[39mwith_traceback(filtered_tb) \u001b[38;5;28;01mfrom\u001b[39;00m \u001b[38;5;28;01mNone\u001b[39;00m\n\u001b[0;32m     71\u001b[0m \u001b[38;5;28;01mfinally\u001b[39;00m:\n\u001b[0;32m     72\u001b[0m     \u001b[38;5;28;01mdel\u001b[39;00m filtered_tb\n",
      "File \u001b[1;32m~\\AppData\\Local\\miniconda3\\Lib\\site-packages\\tf_keras\\src\\engine\\input_spec.py:251\u001b[0m, in \u001b[0;36massert_input_compatibility\u001b[1;34m(input_spec, inputs, layer_name)\u001b[0m\n\u001b[0;32m    244\u001b[0m         \u001b[38;5;28;01mraise\u001b[39;00m \u001b[38;5;167;01mValueError\u001b[39;00m(\n\u001b[0;32m    245\u001b[0m             \u001b[38;5;124mf\u001b[39m\u001b[38;5;124m'\u001b[39m\u001b[38;5;124mInput \u001b[39m\u001b[38;5;132;01m{\u001b[39;00minput_index\u001b[38;5;132;01m}\u001b[39;00m\u001b[38;5;124m of layer \u001b[39m\u001b[38;5;124m\"\u001b[39m\u001b[38;5;132;01m{\u001b[39;00mlayer_name\u001b[38;5;132;01m}\u001b[39;00m\u001b[38;5;124m\"\u001b[39m\u001b[38;5;124m \u001b[39m\u001b[38;5;124m'\u001b[39m\n\u001b[0;32m    246\u001b[0m             \u001b[38;5;124m\"\u001b[39m\u001b[38;5;124mis incompatible with the layer: \u001b[39m\u001b[38;5;124m\"\u001b[39m\n\u001b[0;32m    247\u001b[0m             \u001b[38;5;124mf\u001b[39m\u001b[38;5;124m\"\u001b[39m\u001b[38;5;124mexpected max_ndim=\u001b[39m\u001b[38;5;132;01m{\u001b[39;00mspec\u001b[38;5;241m.\u001b[39mmax_ndim\u001b[38;5;132;01m}\u001b[39;00m\u001b[38;5;124m, \u001b[39m\u001b[38;5;124m\"\u001b[39m\n\u001b[0;32m    248\u001b[0m             \u001b[38;5;124mf\u001b[39m\u001b[38;5;124m\"\u001b[39m\u001b[38;5;124mfound ndim=\u001b[39m\u001b[38;5;132;01m{\u001b[39;00mndim\u001b[38;5;132;01m}\u001b[39;00m\u001b[38;5;124m\"\u001b[39m\n\u001b[0;32m    249\u001b[0m         )\n\u001b[0;32m    250\u001b[0m \u001b[38;5;28;01mif\u001b[39;00m spec\u001b[38;5;241m.\u001b[39mmin_ndim \u001b[38;5;129;01mis\u001b[39;00m \u001b[38;5;129;01mnot\u001b[39;00m \u001b[38;5;28;01mNone\u001b[39;00m:\n\u001b[1;32m--> 251\u001b[0m     ndim \u001b[38;5;241m=\u001b[39m x\u001b[38;5;241m.\u001b[39mshape\u001b[38;5;241m.\u001b[39mrank\n\u001b[0;32m    252\u001b[0m     \u001b[38;5;28;01mif\u001b[39;00m ndim \u001b[38;5;129;01mis\u001b[39;00m \u001b[38;5;129;01mnot\u001b[39;00m \u001b[38;5;28;01mNone\u001b[39;00m \u001b[38;5;129;01mand\u001b[39;00m ndim \u001b[38;5;241m<\u001b[39m spec\u001b[38;5;241m.\u001b[39mmin_ndim:\n\u001b[0;32m    253\u001b[0m         \u001b[38;5;28;01mraise\u001b[39;00m \u001b[38;5;167;01mValueError\u001b[39;00m(\n\u001b[0;32m    254\u001b[0m             \u001b[38;5;124mf\u001b[39m\u001b[38;5;124m'\u001b[39m\u001b[38;5;124mInput \u001b[39m\u001b[38;5;132;01m{\u001b[39;00minput_index\u001b[38;5;132;01m}\u001b[39;00m\u001b[38;5;124m of layer \u001b[39m\u001b[38;5;124m\"\u001b[39m\u001b[38;5;132;01m{\u001b[39;00mlayer_name\u001b[38;5;132;01m}\u001b[39;00m\u001b[38;5;124m\"\u001b[39m\u001b[38;5;124m \u001b[39m\u001b[38;5;124m'\u001b[39m\n\u001b[0;32m    255\u001b[0m             \u001b[38;5;124m\"\u001b[39m\u001b[38;5;124mis incompatible with the layer: \u001b[39m\u001b[38;5;124m\"\u001b[39m\n\u001b[1;32m   (...)\u001b[0m\n\u001b[0;32m    258\u001b[0m             \u001b[38;5;124mf\u001b[39m\u001b[38;5;124m\"\u001b[39m\u001b[38;5;124mFull shape received: \u001b[39m\u001b[38;5;132;01m{\u001b[39;00m\u001b[38;5;28mtuple\u001b[39m(shape)\u001b[38;5;132;01m}\u001b[39;00m\u001b[38;5;124m\"\u001b[39m\n\u001b[0;32m    259\u001b[0m         )\n",
      "\u001b[1;31mAttributeError\u001b[0m: 'tuple' object has no attribute 'rank'"
     ]
    }
   ],
   "source": [
    "num_epochs = 500\n",
    "train_sample_size = int(train_size * 0.3)\n",
    "small_train_dataset = train_dataset.unbatch().take(train_sample_size).batch(batch_size)\n",
    "\n",
    "bnn_model_small = create_bnn_model(train_sample_size)\n",
    "run_experiment(bnn_model_small, mse_loss, small_train_dataset, test_dataset)"
   ]
  },
  {
   "cell_type": "code",
   "execution_count": 29,
   "id": "16bdcd2a-5cbb-469a-bdb7-ae5f5608ac06",
   "metadata": {},
   "outputs": [],
   "source": [
    "class DebugLayer(tf.keras.layers.Layer):\n",
    "    def __init__(self, msg=\"\"):\n",
    "        super().__init__()\n",
    "        self.msg = msg\n",
    "\n",
    "    def call(self, inputs):\n",
    "        tf.print(f\"🔍 {self.msg} - inputs type:\", type(inputs))\n",
    "        tf.print(f\"🔍 {self.msg} - inputs shape:\", inputs.shape if hasattr(inputs, \"shape\") else \"NO SHAPE\")\n",
    "        return inputs"
   ]
  },
  {
   "cell_type": "code",
   "execution_count": 36,
   "id": "f1d50fb0-7fd7-41e5-98d7-08ed8d3ab883",
   "metadata": {},
   "outputs": [],
   "source": [
    "def create_bnn_model(train_size):\n",
    "    inputs = create_model_inputs()\n",
    "\n",
    "    # Important: preserve order of features to match dataset\n",
    "    input_values = [inputs[feature] for feature in FEATURE_NAMES]\n",
    "    x = layers.concatenate(input_values)\n",
    "    x = layers.BatchNormalization()(x, training=False)  # <- critical fix\n",
    "\n",
    "    for i, units in enumerate(hidden_units):\n",
    "        x = tfp.layers.DenseVariational(\n",
    "            units=units,\n",
    "            make_prior_fn=prior_fn,           # Make sure it's the fixed callable\n",
    "            make_posterior_fn=posterior_fn,\n",
    "            kl_weight=1.0 / train_size,\n",
    "            activation=\"sigmoid\",\n",
    "        )(x)\n",
    "\n",
    "    outputs = layers.Dense(1)(x)\n",
    "    model = keras.Model(inputs=inputs, outputs=outputs)\n",
    "    return model\n",
    "\n"
   ]
  },
  {
   "cell_type": "code",
   "execution_count": 37,
   "id": "c6de8c20-20f9-4ddc-8707-d4008a0527a2",
   "metadata": {},
   "outputs": [
    {
     "ename": "AttributeError",
     "evalue": "'tuple' object has no attribute 'rank'",
     "output_type": "error",
     "traceback": [
      "\u001b[1;31m---------------------------------------------------------------------------\u001b[0m",
      "\u001b[1;31mAttributeError\u001b[0m                            Traceback (most recent call last)",
      "Cell \u001b[1;32mIn[37], line 1\u001b[0m\n\u001b[1;32m----> 1\u001b[0m bnn_model_small \u001b[38;5;241m=\u001b[39m create_bnn_model(train_sample_size)\n\u001b[0;32m      2\u001b[0m pred \u001b[38;5;241m=\u001b[39m bnn_model_small(example_batch[\u001b[38;5;241m0\u001b[39m])  \u001b[38;5;66;03m# ✅ Should no longer crash\u001b[39;00m\n\u001b[0;32m      3\u001b[0m \u001b[38;5;28mprint\u001b[39m(pred\u001b[38;5;241m.\u001b[39mshape)\n",
      "Cell \u001b[1;32mIn[36], line 10\u001b[0m, in \u001b[0;36mcreate_bnn_model\u001b[1;34m(train_size)\u001b[0m\n\u001b[0;32m      7\u001b[0m x \u001b[38;5;241m=\u001b[39m layers\u001b[38;5;241m.\u001b[39mBatchNormalization()(x, training\u001b[38;5;241m=\u001b[39m\u001b[38;5;28;01mFalse\u001b[39;00m)  \u001b[38;5;66;03m# <- critical fix\u001b[39;00m\n\u001b[0;32m      9\u001b[0m \u001b[38;5;28;01mfor\u001b[39;00m i, units \u001b[38;5;129;01min\u001b[39;00m \u001b[38;5;28menumerate\u001b[39m(hidden_units):\n\u001b[1;32m---> 10\u001b[0m     x \u001b[38;5;241m=\u001b[39m tfp\u001b[38;5;241m.\u001b[39mlayers\u001b[38;5;241m.\u001b[39mDenseVariational(\n\u001b[0;32m     11\u001b[0m         units\u001b[38;5;241m=\u001b[39munits,\n\u001b[0;32m     12\u001b[0m         make_prior_fn\u001b[38;5;241m=\u001b[39mprior_fn,           \u001b[38;5;66;03m# Make sure it's the fixed callable\u001b[39;00m\n\u001b[0;32m     13\u001b[0m         make_posterior_fn\u001b[38;5;241m=\u001b[39mposterior_fn,\n\u001b[0;32m     14\u001b[0m         kl_weight\u001b[38;5;241m=\u001b[39m\u001b[38;5;241m1.0\u001b[39m \u001b[38;5;241m/\u001b[39m train_size,\n\u001b[0;32m     15\u001b[0m         activation\u001b[38;5;241m=\u001b[39m\u001b[38;5;124m\"\u001b[39m\u001b[38;5;124msigmoid\u001b[39m\u001b[38;5;124m\"\u001b[39m,\n\u001b[0;32m     16\u001b[0m     )(x)\n\u001b[0;32m     18\u001b[0m outputs \u001b[38;5;241m=\u001b[39m layers\u001b[38;5;241m.\u001b[39mDense(\u001b[38;5;241m1\u001b[39m)(x)\n\u001b[0;32m     19\u001b[0m model \u001b[38;5;241m=\u001b[39m keras\u001b[38;5;241m.\u001b[39mModel(inputs\u001b[38;5;241m=\u001b[39minputs, outputs\u001b[38;5;241m=\u001b[39moutputs)\n",
      "File \u001b[1;32m~\\AppData\\Local\\miniconda3\\Lib\\site-packages\\tf_keras\\src\\utils\\traceback_utils.py:70\u001b[0m, in \u001b[0;36mfilter_traceback.<locals>.error_handler\u001b[1;34m(*args, **kwargs)\u001b[0m\n\u001b[0;32m     67\u001b[0m     filtered_tb \u001b[38;5;241m=\u001b[39m _process_traceback_frames(e\u001b[38;5;241m.\u001b[39m__traceback__)\n\u001b[0;32m     68\u001b[0m     \u001b[38;5;66;03m# To get the full stack trace, call:\u001b[39;00m\n\u001b[0;32m     69\u001b[0m     \u001b[38;5;66;03m# `tf.debugging.disable_traceback_filtering()`\u001b[39;00m\n\u001b[1;32m---> 70\u001b[0m     \u001b[38;5;28;01mraise\u001b[39;00m e\u001b[38;5;241m.\u001b[39mwith_traceback(filtered_tb) \u001b[38;5;28;01mfrom\u001b[39;00m \u001b[38;5;28;01mNone\u001b[39;00m\n\u001b[0;32m     71\u001b[0m \u001b[38;5;28;01mfinally\u001b[39;00m:\n\u001b[0;32m     72\u001b[0m     \u001b[38;5;28;01mdel\u001b[39;00m filtered_tb\n",
      "File \u001b[1;32m~\\AppData\\Local\\miniconda3\\Lib\\site-packages\\tf_keras\\src\\engine\\input_spec.py:251\u001b[0m, in \u001b[0;36massert_input_compatibility\u001b[1;34m(input_spec, inputs, layer_name)\u001b[0m\n\u001b[0;32m    244\u001b[0m         \u001b[38;5;28;01mraise\u001b[39;00m \u001b[38;5;167;01mValueError\u001b[39;00m(\n\u001b[0;32m    245\u001b[0m             \u001b[38;5;124mf\u001b[39m\u001b[38;5;124m'\u001b[39m\u001b[38;5;124mInput \u001b[39m\u001b[38;5;132;01m{\u001b[39;00minput_index\u001b[38;5;132;01m}\u001b[39;00m\u001b[38;5;124m of layer \u001b[39m\u001b[38;5;124m\"\u001b[39m\u001b[38;5;132;01m{\u001b[39;00mlayer_name\u001b[38;5;132;01m}\u001b[39;00m\u001b[38;5;124m\"\u001b[39m\u001b[38;5;124m \u001b[39m\u001b[38;5;124m'\u001b[39m\n\u001b[0;32m    246\u001b[0m             \u001b[38;5;124m\"\u001b[39m\u001b[38;5;124mis incompatible with the layer: \u001b[39m\u001b[38;5;124m\"\u001b[39m\n\u001b[0;32m    247\u001b[0m             \u001b[38;5;124mf\u001b[39m\u001b[38;5;124m\"\u001b[39m\u001b[38;5;124mexpected max_ndim=\u001b[39m\u001b[38;5;132;01m{\u001b[39;00mspec\u001b[38;5;241m.\u001b[39mmax_ndim\u001b[38;5;132;01m}\u001b[39;00m\u001b[38;5;124m, \u001b[39m\u001b[38;5;124m\"\u001b[39m\n\u001b[0;32m    248\u001b[0m             \u001b[38;5;124mf\u001b[39m\u001b[38;5;124m\"\u001b[39m\u001b[38;5;124mfound ndim=\u001b[39m\u001b[38;5;132;01m{\u001b[39;00mndim\u001b[38;5;132;01m}\u001b[39;00m\u001b[38;5;124m\"\u001b[39m\n\u001b[0;32m    249\u001b[0m         )\n\u001b[0;32m    250\u001b[0m \u001b[38;5;28;01mif\u001b[39;00m spec\u001b[38;5;241m.\u001b[39mmin_ndim \u001b[38;5;129;01mis\u001b[39;00m \u001b[38;5;129;01mnot\u001b[39;00m \u001b[38;5;28;01mNone\u001b[39;00m:\n\u001b[1;32m--> 251\u001b[0m     ndim \u001b[38;5;241m=\u001b[39m x\u001b[38;5;241m.\u001b[39mshape\u001b[38;5;241m.\u001b[39mrank\n\u001b[0;32m    252\u001b[0m     \u001b[38;5;28;01mif\u001b[39;00m ndim \u001b[38;5;129;01mis\u001b[39;00m \u001b[38;5;129;01mnot\u001b[39;00m \u001b[38;5;28;01mNone\u001b[39;00m \u001b[38;5;129;01mand\u001b[39;00m ndim \u001b[38;5;241m<\u001b[39m spec\u001b[38;5;241m.\u001b[39mmin_ndim:\n\u001b[0;32m    253\u001b[0m         \u001b[38;5;28;01mraise\u001b[39;00m \u001b[38;5;167;01mValueError\u001b[39;00m(\n\u001b[0;32m    254\u001b[0m             \u001b[38;5;124mf\u001b[39m\u001b[38;5;124m'\u001b[39m\u001b[38;5;124mInput \u001b[39m\u001b[38;5;132;01m{\u001b[39;00minput_index\u001b[38;5;132;01m}\u001b[39;00m\u001b[38;5;124m of layer \u001b[39m\u001b[38;5;124m\"\u001b[39m\u001b[38;5;132;01m{\u001b[39;00mlayer_name\u001b[38;5;132;01m}\u001b[39;00m\u001b[38;5;124m\"\u001b[39m\u001b[38;5;124m \u001b[39m\u001b[38;5;124m'\u001b[39m\n\u001b[0;32m    255\u001b[0m             \u001b[38;5;124m\"\u001b[39m\u001b[38;5;124mis incompatible with the layer: \u001b[39m\u001b[38;5;124m\"\u001b[39m\n\u001b[1;32m   (...)\u001b[0m\n\u001b[0;32m    258\u001b[0m             \u001b[38;5;124mf\u001b[39m\u001b[38;5;124m\"\u001b[39m\u001b[38;5;124mFull shape received: \u001b[39m\u001b[38;5;132;01m{\u001b[39;00m\u001b[38;5;28mtuple\u001b[39m(shape)\u001b[38;5;132;01m}\u001b[39;00m\u001b[38;5;124m\"\u001b[39m\n\u001b[0;32m    259\u001b[0m         )\n",
      "\u001b[1;31mAttributeError\u001b[0m: 'tuple' object has no attribute 'rank'"
     ]
    }
   ],
   "source": [
    "bnn_model_small = create_bnn_model(train_sample_size)\n",
    "pred = bnn_model_small(example_batch[0])  # ✅ Should no longer crash\n",
    "print(pred.shape)"
   ]
  },
  {
   "cell_type": "markdown",
   "id": "dbdc983b-de13-4601-8928-1fc509a63a87",
   "metadata": {},
   "source": [
    "Since we have trained a BNN model, the model produces a different output each time we call it with the same input, since each time a new set of weights are sampled from the distributions to construct the network and produce an output. The less certain the mode weights are, the more variability (wider range) we will see in the outputs of the same inputs."
   ]
  },
  {
   "cell_type": "code",
   "execution_count": null,
   "id": "02b7378c-cfcb-4879-9770-d1ba67159103",
   "metadata": {},
   "outputs": [],
   "source": [
    "def compute_predictions(model, iterations=100):\n",
    "    predicted = []\n",
    "    for _ in range(iterations):\n",
    "        predicted.append(model(examples).numpy())\n",
    "    predicted = np.concatenate(predicted, axis=1)\n",
    "\n",
    "    prediction_mean = np.mean(predicted, axis=1).tolist()\n",
    "    prediction_min = np.min(predicted, axis=1).tolist()\n",
    "    prediction_max = np.max(predicted, axis=1).tolist()\n",
    "    prediction_range = (np.max(predicted, axis=1) - np.min(predicted, axis=1)).tolist()\n",
    "\n",
    "    for idx in range(sample):\n",
    "        print(\n",
    "            f\"Predictions mean: {round(prediction_mean[idx], 2)}, \"\n",
    "            f\"min: {round(prediction_min[idx], 2)}, \"\n",
    "            f\"max: {round(prediction_max[idx], 2)}, \"\n",
    "            f\"range: {round(prediction_range[idx], 2)} - \"\n",
    "            f\"Actual: {targets[idx]}\"\n",
    "        )\n",
    "\n",
    "\n",
    "compute_predictions(bnn_model_small)"
   ]
  },
  {
   "cell_type": "markdown",
   "id": "e45d9a4b-c72d-4a4e-ba65-4cadb6f3b89f",
   "metadata": {},
   "source": [
    "### Train BNN with the whole training set."
   ]
  },
  {
   "cell_type": "code",
   "execution_count": null,
   "id": "cbe98d3a-f28f-4f4b-9ca7-1d8a8b90002f",
   "metadata": {},
   "outputs": [],
   "source": [
    "num_epochs = 500\n",
    "bnn_model_full = create_bnn_model(train_size)\n",
    "run_experiment(bnn_model_full, mse_loss, train_dataset, test_dataset)\n",
    "\n",
    "compute_predictions(bnn_model_full)"
   ]
  },
  {
   "cell_type": "code",
   "execution_count": null,
   "id": "1ec47a2c-ea14-47a7-b44f-201030701527",
   "metadata": {},
   "outputs": [],
   "source": []
  },
  {
   "cell_type": "code",
   "execution_count": 70,
   "id": "98432fa2-6c2c-4e14-8675-01f857a1cff8",
   "metadata": {},
   "outputs": [],
   "source": [
    "def create_bnn_model(train_size=2):\n",
    "    inputs = create_model_inputs()\n",
    "    input_values = [inputs[name] for name in FEATURE_NAMES]\n",
    "    x = layers.concatenate(input_values)\n",
    "    x = SafeBatchNorm()(x)\n",
    "\n",
    "    x = tfp.layers.DenseVariational(\n",
    "        units=8,\n",
    "        make_prior_fn=prior_fn(),\n",
    "        make_posterior_fn=posterior_fn(),\n",
    "        kl_weight=1.0 / train_size,\n",
    "        activation=\"sigmoid\"\n",
    "    )(x)\n",
    "\n",
    "    outputs = layers.Dense(1)(x)\n",
    "    return keras.Model(inputs=inputs, outputs=outputs)"
   ]
  },
  {
   "cell_type": "code",
   "execution_count": 66,
   "id": "c0b4d541-5692-4ca5-9b07-75b03b532007",
   "metadata": {},
   "outputs": [],
   "source": [
    "class SafeBatchNorm(layers.Layer):\n",
    "    def __init__(self, **kwargs):\n",
    "        super().__init__()\n",
    "        self.bn = layers.BatchNormalization(**kwargs)\n",
    "\n",
    "    def call(self, inputs, training=False):\n",
    "        output = self.bn(inputs, training=training)\n",
    "        if isinstance(output, tuple):\n",
    "            return output[0]\n",
    "        return output"
   ]
  },
  {
   "cell_type": "code",
   "execution_count": 71,
   "id": "1a720cc0-1d0b-41ea-b10f-9843868ceebc",
   "metadata": {},
   "outputs": [
    {
     "ename": "AttributeError",
     "evalue": "'tuple' object has no attribute 'rank'",
     "output_type": "error",
     "traceback": [
      "\u001b[1;31m---------------------------------------------------------------------------\u001b[0m",
      "\u001b[1;31mAttributeError\u001b[0m                            Traceback (most recent call last)",
      "Cell \u001b[1;32mIn[71], line 1\u001b[0m\n\u001b[1;32m----> 1\u001b[0m model \u001b[38;5;241m=\u001b[39m create_bnn_model()\n\u001b[0;32m      2\u001b[0m example \u001b[38;5;241m=\u001b[39m \u001b[38;5;28mnext\u001b[39m(\u001b[38;5;28miter\u001b[39m(dataset))\n\u001b[0;32m      3\u001b[0m output \u001b[38;5;241m=\u001b[39m model(example[\u001b[38;5;241m0\u001b[39m])\n",
      "Cell \u001b[1;32mIn[70], line 7\u001b[0m, in \u001b[0;36mcreate_bnn_model\u001b[1;34m(train_size)\u001b[0m\n\u001b[0;32m      4\u001b[0m x \u001b[38;5;241m=\u001b[39m layers\u001b[38;5;241m.\u001b[39mconcatenate(input_values)\n\u001b[0;32m      5\u001b[0m x \u001b[38;5;241m=\u001b[39m SafeBatchNorm()(x)\n\u001b[1;32m----> 7\u001b[0m x \u001b[38;5;241m=\u001b[39m tfp\u001b[38;5;241m.\u001b[39mlayers\u001b[38;5;241m.\u001b[39mDenseVariational(\n\u001b[0;32m      8\u001b[0m     units\u001b[38;5;241m=\u001b[39m\u001b[38;5;241m8\u001b[39m,\n\u001b[0;32m      9\u001b[0m     make_prior_fn\u001b[38;5;241m=\u001b[39mprior_fn(),\n\u001b[0;32m     10\u001b[0m     make_posterior_fn\u001b[38;5;241m=\u001b[39mposterior_fn(),\n\u001b[0;32m     11\u001b[0m     kl_weight\u001b[38;5;241m=\u001b[39m\u001b[38;5;241m1.0\u001b[39m \u001b[38;5;241m/\u001b[39m train_size,\n\u001b[0;32m     12\u001b[0m     activation\u001b[38;5;241m=\u001b[39m\u001b[38;5;124m\"\u001b[39m\u001b[38;5;124msigmoid\u001b[39m\u001b[38;5;124m\"\u001b[39m\n\u001b[0;32m     13\u001b[0m )(x)\n\u001b[0;32m     15\u001b[0m outputs \u001b[38;5;241m=\u001b[39m layers\u001b[38;5;241m.\u001b[39mDense(\u001b[38;5;241m1\u001b[39m)(x)\n\u001b[0;32m     16\u001b[0m \u001b[38;5;28;01mreturn\u001b[39;00m keras\u001b[38;5;241m.\u001b[39mModel(inputs\u001b[38;5;241m=\u001b[39minputs, outputs\u001b[38;5;241m=\u001b[39moutputs)\n",
      "File \u001b[1;32m~\\AppData\\Local\\miniconda3\\Lib\\site-packages\\tf_keras\\src\\utils\\traceback_utils.py:70\u001b[0m, in \u001b[0;36mfilter_traceback.<locals>.error_handler\u001b[1;34m(*args, **kwargs)\u001b[0m\n\u001b[0;32m     67\u001b[0m     filtered_tb \u001b[38;5;241m=\u001b[39m _process_traceback_frames(e\u001b[38;5;241m.\u001b[39m__traceback__)\n\u001b[0;32m     68\u001b[0m     \u001b[38;5;66;03m# To get the full stack trace, call:\u001b[39;00m\n\u001b[0;32m     69\u001b[0m     \u001b[38;5;66;03m# `tf.debugging.disable_traceback_filtering()`\u001b[39;00m\n\u001b[1;32m---> 70\u001b[0m     \u001b[38;5;28;01mraise\u001b[39;00m e\u001b[38;5;241m.\u001b[39mwith_traceback(filtered_tb) \u001b[38;5;28;01mfrom\u001b[39;00m \u001b[38;5;28;01mNone\u001b[39;00m\n\u001b[0;32m     71\u001b[0m \u001b[38;5;28;01mfinally\u001b[39;00m:\n\u001b[0;32m     72\u001b[0m     \u001b[38;5;28;01mdel\u001b[39;00m filtered_tb\n",
      "File \u001b[1;32m~\\AppData\\Local\\miniconda3\\Lib\\site-packages\\tf_keras\\src\\engine\\input_spec.py:251\u001b[0m, in \u001b[0;36massert_input_compatibility\u001b[1;34m(input_spec, inputs, layer_name)\u001b[0m\n\u001b[0;32m    244\u001b[0m         \u001b[38;5;28;01mraise\u001b[39;00m \u001b[38;5;167;01mValueError\u001b[39;00m(\n\u001b[0;32m    245\u001b[0m             \u001b[38;5;124mf\u001b[39m\u001b[38;5;124m'\u001b[39m\u001b[38;5;124mInput \u001b[39m\u001b[38;5;132;01m{\u001b[39;00minput_index\u001b[38;5;132;01m}\u001b[39;00m\u001b[38;5;124m of layer \u001b[39m\u001b[38;5;124m\"\u001b[39m\u001b[38;5;132;01m{\u001b[39;00mlayer_name\u001b[38;5;132;01m}\u001b[39;00m\u001b[38;5;124m\"\u001b[39m\u001b[38;5;124m \u001b[39m\u001b[38;5;124m'\u001b[39m\n\u001b[0;32m    246\u001b[0m             \u001b[38;5;124m\"\u001b[39m\u001b[38;5;124mis incompatible with the layer: \u001b[39m\u001b[38;5;124m\"\u001b[39m\n\u001b[0;32m    247\u001b[0m             \u001b[38;5;124mf\u001b[39m\u001b[38;5;124m\"\u001b[39m\u001b[38;5;124mexpected max_ndim=\u001b[39m\u001b[38;5;132;01m{\u001b[39;00mspec\u001b[38;5;241m.\u001b[39mmax_ndim\u001b[38;5;132;01m}\u001b[39;00m\u001b[38;5;124m, \u001b[39m\u001b[38;5;124m\"\u001b[39m\n\u001b[0;32m    248\u001b[0m             \u001b[38;5;124mf\u001b[39m\u001b[38;5;124m\"\u001b[39m\u001b[38;5;124mfound ndim=\u001b[39m\u001b[38;5;132;01m{\u001b[39;00mndim\u001b[38;5;132;01m}\u001b[39;00m\u001b[38;5;124m\"\u001b[39m\n\u001b[0;32m    249\u001b[0m         )\n\u001b[0;32m    250\u001b[0m \u001b[38;5;28;01mif\u001b[39;00m spec\u001b[38;5;241m.\u001b[39mmin_ndim \u001b[38;5;129;01mis\u001b[39;00m \u001b[38;5;129;01mnot\u001b[39;00m \u001b[38;5;28;01mNone\u001b[39;00m:\n\u001b[1;32m--> 251\u001b[0m     ndim \u001b[38;5;241m=\u001b[39m x\u001b[38;5;241m.\u001b[39mshape\u001b[38;5;241m.\u001b[39mrank\n\u001b[0;32m    252\u001b[0m     \u001b[38;5;28;01mif\u001b[39;00m ndim \u001b[38;5;129;01mis\u001b[39;00m \u001b[38;5;129;01mnot\u001b[39;00m \u001b[38;5;28;01mNone\u001b[39;00m \u001b[38;5;129;01mand\u001b[39;00m ndim \u001b[38;5;241m<\u001b[39m spec\u001b[38;5;241m.\u001b[39mmin_ndim:\n\u001b[0;32m    253\u001b[0m         \u001b[38;5;28;01mraise\u001b[39;00m \u001b[38;5;167;01mValueError\u001b[39;00m(\n\u001b[0;32m    254\u001b[0m             \u001b[38;5;124mf\u001b[39m\u001b[38;5;124m'\u001b[39m\u001b[38;5;124mInput \u001b[39m\u001b[38;5;132;01m{\u001b[39;00minput_index\u001b[38;5;132;01m}\u001b[39;00m\u001b[38;5;124m of layer \u001b[39m\u001b[38;5;124m\"\u001b[39m\u001b[38;5;132;01m{\u001b[39;00mlayer_name\u001b[38;5;132;01m}\u001b[39;00m\u001b[38;5;124m\"\u001b[39m\u001b[38;5;124m \u001b[39m\u001b[38;5;124m'\u001b[39m\n\u001b[0;32m    255\u001b[0m             \u001b[38;5;124m\"\u001b[39m\u001b[38;5;124mis incompatible with the layer: \u001b[39m\u001b[38;5;124m\"\u001b[39m\n\u001b[1;32m   (...)\u001b[0m\n\u001b[0;32m    258\u001b[0m             \u001b[38;5;124mf\u001b[39m\u001b[38;5;124m\"\u001b[39m\u001b[38;5;124mFull shape received: \u001b[39m\u001b[38;5;132;01m{\u001b[39;00m\u001b[38;5;28mtuple\u001b[39m(shape)\u001b[38;5;132;01m}\u001b[39;00m\u001b[38;5;124m\"\u001b[39m\n\u001b[0;32m    259\u001b[0m         )\n",
      "\u001b[1;31mAttributeError\u001b[0m: 'tuple' object has no attribute 'rank'"
     ]
    }
   ],
   "source": [
    "model = create_bnn_model()\n",
    "example = next(iter(dataset))\n",
    "output = model(example[0])\n",
    "print(\"✅ Output shape:\", output.shape)\n"
   ]
  },
  {
   "cell_type": "code",
   "execution_count": 68,
   "id": "b054056a-1cb2-4d7a-a1de-dc8c54fc1882",
   "metadata": {},
   "outputs": [],
   "source": [
    "import tensorflow_probability as tfp\n",
    "tfd = tfp.distributions\n",
    "\n",
    "def prior_fn():\n",
    "    return lambda dtype, shape, name, trainable, add_variable_fn: tfd.Independent(\n",
    "        tfd.Normal(loc=tf.zeros(shape, dtype=dtype), scale=1.0),\n",
    "        reinterpreted_batch_ndims=len(shape)\n",
    "    )\n",
    "\n",
    "def posterior_fn():\n",
    "    return lambda dtype, shape, name, trainable, add_variable_fn: tfd.Independent(\n",
    "        tfd.Normal(\n",
    "            loc=add_variable_fn(\n",
    "                name + '_loc',\n",
    "                shape=shape,\n",
    "                initializer=tf.initializers.random_normal(stddev=0.1),\n",
    "                dtype=dtype,\n",
    "                trainable=trainable,\n",
    "            ),\n",
    "            scale=tf.nn.softplus(add_variable_fn(\n",
    "                name + '_scale',\n",
    "                shape=shape,\n",
    "                initializer=tf.initializers.random_normal(mean=-3.0, stddev=0.1),\n",
    "                dtype=dtype,\n",
    "                trainable=trainable,\n",
    "            )),\n",
    "        ),\n",
    "        reinterpreted_batch_ndims=len(shape),\n",
    "    )\n"
   ]
  },
  {
   "cell_type": "code",
   "execution_count": 69,
   "id": "f7e057a3-83c7-4ba9-af4b-26d7182a094d",
   "metadata": {},
   "outputs": [
    {
     "ename": "NameError",
     "evalue": "name 'x' is not defined",
     "output_type": "error",
     "traceback": [
      "\u001b[1;31m---------------------------------------------------------------------------\u001b[0m",
      "\u001b[1;31mNameError\u001b[0m                                 Traceback (most recent call last)",
      "Cell \u001b[1;32mIn[69], line 7\u001b[0m\n\u001b[0;32m      1\u001b[0m x \u001b[38;5;241m=\u001b[39m tfp\u001b[38;5;241m.\u001b[39mlayers\u001b[38;5;241m.\u001b[39mDenseVariational(\n\u001b[0;32m      2\u001b[0m     units\u001b[38;5;241m=\u001b[39m\u001b[38;5;241m8\u001b[39m,\n\u001b[0;32m      3\u001b[0m     make_prior_fn\u001b[38;5;241m=\u001b[39mprior_fn(),\n\u001b[0;32m      4\u001b[0m     make_posterior_fn\u001b[38;5;241m=\u001b[39mposterior_fn(),\n\u001b[0;32m      5\u001b[0m     kl_weight\u001b[38;5;241m=\u001b[39m\u001b[38;5;241m1.0\u001b[39m \u001b[38;5;241m/\u001b[39m train_size,\n\u001b[0;32m      6\u001b[0m     activation\u001b[38;5;241m=\u001b[39m\u001b[38;5;124m\"\u001b[39m\u001b[38;5;124msigmoid\u001b[39m\u001b[38;5;124m\"\u001b[39m\n\u001b[1;32m----> 7\u001b[0m )(x)\n",
      "\u001b[1;31mNameError\u001b[0m: name 'x' is not defined"
     ]
    }
   ],
   "source": [
    "\n"
   ]
  },
  {
   "cell_type": "code",
   "execution_count": null,
   "id": "5e2b13df-b67b-4d5d-8bc0-9e34683392f2",
   "metadata": {},
   "outputs": [],
   "source": []
  },
  {
   "cell_type": "code",
   "execution_count": null,
   "id": "2cfb741a-c8a1-4ff5-b1f5-d058ea459de1",
   "metadata": {},
   "outputs": [],
   "source": []
  },
  {
   "cell_type": "code",
   "execution_count": null,
   "id": "1ac540f4-3737-428c-90f4-493d1fd2ec8d",
   "metadata": {},
   "outputs": [],
   "source": []
  },
  {
   "cell_type": "code",
   "execution_count": null,
   "id": "4a9da9cd-edd0-44ef-96b2-f762af8f18fb",
   "metadata": {},
   "outputs": [],
   "source": []
  },
  {
   "cell_type": "markdown",
   "id": "7a91822b-c541-4db1-a86c-cd1063cd8e4c",
   "metadata": {},
   "source": [
    "## Experiment 3: probabilistic Bayesian neural network\n",
    "So far, the output of the standard and the Bayesian NN models that we built is deterministic, that is, produces a point estimate as a prediction for a given example. We can create a probabilistic NN by letting the model output a distribution. In this case, the model captures the aleatoric uncertainty as well, which is due to irreducible noise in the data, or to the stochastic nature of the process generating the data.\n",
    "\n",
    "In this example, we model the output as a IndependentNormal distribution, with learnable mean and variance parameters. If the task was classification, we would have used IndependentBernoulli with binary classes, and OneHotCategorical with multiple classes, to model distribution of the model output."
   ]
  },
  {
   "cell_type": "code",
   "execution_count": null,
   "id": "966e2afb-2e55-4fd4-889e-fe9ba8cf6732",
   "metadata": {},
   "outputs": [],
   "source": [
    "def create_probablistic_bnn_model(train_size):\n",
    "    inputs = create_model_inputs()\n",
    "    features = keras.layers.concatenate(list(inputs.values()))\n",
    "    features = layers.BatchNormalization()(features)\n",
    "\n",
    "    # Create hidden layers with weight uncertainty using the DenseVariational layer.\n",
    "    for units in hidden_units:\n",
    "        features = tfp.layers.DenseVariational(\n",
    "            units=units,\n",
    "            make_prior_fn=prior,\n",
    "            make_posterior_fn=posterior,\n",
    "            kl_weight=1 / train_size,\n",
    "            activation=\"sigmoid\",\n",
    "        )(features)\n",
    "\n",
    "    # Create a probabilisticå output (Normal distribution), and use the `Dense` layer\n",
    "    # to produce the parameters of the distribution.\n",
    "    # We set units=2 to learn both the mean and the variance of the Normal distribution.\n",
    "    distribution_params = layers.Dense(units=2)(features)\n",
    "    outputs = tfp.layers.IndependentNormal(1)(distribution_params)\n",
    "\n",
    "    model = keras.Model(inputs=inputs, outputs=outputs)\n",
    "    return model"
   ]
  },
  {
   "cell_type": "markdown",
   "id": "ab88e354-2ed1-446a-9f09-0fef11635235",
   "metadata": {},
   "source": [
    "Since the output of the model is a distribution, rather than a point estimate, we use the negative loglikelihood as our loss function to compute how likely to see the true data (targets) from the estimated distribution produced by the model."
   ]
  },
  {
   "cell_type": "code",
   "execution_count": null,
   "id": "661951f7-bd91-474f-9aaa-499dd0737c27",
   "metadata": {},
   "outputs": [],
   "source": [
    "def negative_loglikelihood(targets, estimated_distribution):\n",
    "    return -estimated_distribution.log_prob(targets)\n",
    "\n",
    "\n",
    "num_epochs = 1000\n",
    "prob_bnn_model = create_probablistic_bnn_model(train_size)\n",
    "run_experiment(prob_bnn_model, negative_loglikelihood, train_dataset, test_dataset)"
   ]
  },
  {
   "cell_type": "markdown",
   "id": "f826b033-09ea-4167-9324-d4ce36b41c00",
   "metadata": {},
   "source": [
    "Now let's produce an output from the model given the test examples. The output is now a distribution, and we can use its mean and variance to compute the confidence intervals (CI) of the prediction."
   ]
  },
  {
   "cell_type": "code",
   "execution_count": null,
   "id": "ee100e08-345f-4fb6-8919-88878ec6dbf5",
   "metadata": {},
   "outputs": [],
   "source": [
    "prediction_distribution = prob_bnn_model(examples)\n",
    "prediction_mean = prediction_distribution.mean().numpy().tolist()\n",
    "prediction_stdv = prediction_distribution.stddev().numpy()\n",
    "\n",
    "# The 95% CI is computed as mean ± (1.96 * stdv)\n",
    "upper = (prediction_mean + (1.96 * prediction_stdv)).tolist()\n",
    "lower = (prediction_mean - (1.96 * prediction_stdv)).tolist()\n",
    "prediction_stdv = prediction_stdv.tolist()\n",
    "\n",
    "for idx in range(sample):\n",
    "    print(\n",
    "        f\"Prediction mean: {round(prediction_mean[idx][0], 2)}, \"\n",
    "        f\"stddev: {round(prediction_stdv[idx][0], 2)}, \"\n",
    "        f\"95% CI: [{round(upper[idx][0], 2)} - {round(lower[idx][0], 2)}]\"\n",
    "        f\" - Actual: {targets[idx]}\"\n",
    "    )"
   ]
  },
  {
   "cell_type": "code",
   "execution_count": null,
   "id": "2071fab9-63e3-415c-af6a-da0e96bca9bc",
   "metadata": {},
   "outputs": [],
   "source": []
  },
  {
   "cell_type": "code",
   "execution_count": null,
   "id": "57262d82-4a98-4137-9710-90099fedf030",
   "metadata": {},
   "outputs": [],
   "source": []
  },
  {
   "cell_type": "code",
   "execution_count": null,
   "id": "d057cb8c-4242-457f-9330-d1c9463a04d8",
   "metadata": {},
   "outputs": [],
   "source": [
    "print(f\"Tamaño del dataset de prueba: {len(list(test_dataset))}\")"
   ]
  },
  {
   "cell_type": "code",
   "execution_count": null,
   "id": "dcbc7b60-0e46-4744-b060-ac654341c155",
   "metadata": {},
   "outputs": [],
   "source": []
  },
  {
   "cell_type": "code",
   "execution_count": null,
   "id": "c29d8376-16b2-425b-8050-7845da2af043",
   "metadata": {},
   "outputs": [],
   "source": [
    "data = pd.read_csv(\"./../data/WineQT.csv\")\n",
    "print(f\"Tamaño total del dataset: {len(data)}\")"
   ]
  },
  {
   "cell_type": "code",
   "execution_count": null,
   "id": "2fd96eb9-23eb-41db-b072-020ad0a95f98",
   "metadata": {},
   "outputs": [],
   "source": [
    "dataset_size = 1143\n",
    "train_size = int(dataset_size * 0.85)\n",
    "test_size = dataset_size - train_size\n",
    "\n",
    "print(f\"Train size: {train_size}, Test size: {test_size}\")"
   ]
  },
  {
   "cell_type": "code",
   "execution_count": null,
   "id": "865fbc01-aecd-4bcc-8408-23044590e4d7",
   "metadata": {},
   "outputs": [],
   "source": [
    "test_dataset = dataset.skip(train_size).take(test_size).batch(batch_size)\n",
    "\n",
    "print(f\"Ejemplos en test_dataset después de skip: {len(list(test_dataset))}\")"
   ]
  },
  {
   "cell_type": "code",
   "execution_count": 8,
   "id": "30df61cf-3718-487b-948b-f22a22c28527",
   "metadata": {},
   "outputs": [],
   "source": [
    "data = pd.read_csv(\"./../data/train_wine.csv\")"
   ]
  },
  {
   "cell_type": "code",
   "execution_count": 9,
   "id": "9ceab6ba-7065-4e6b-bcab-00a2e0a987d9",
   "metadata": {},
   "outputs": [
    {
     "data": {
      "text/html": [
       "<div>\n",
       "<style scoped>\n",
       "    .dataframe tbody tr th:only-of-type {\n",
       "        vertical-align: middle;\n",
       "    }\n",
       "\n",
       "    .dataframe tbody tr th {\n",
       "        vertical-align: top;\n",
       "    }\n",
       "\n",
       "    .dataframe thead th {\n",
       "        text-align: right;\n",
       "    }\n",
       "</style>\n",
       "<table border=\"1\" class=\"dataframe\">\n",
       "  <thead>\n",
       "    <tr style=\"text-align: right;\">\n",
       "      <th></th>\n",
       "      <th>id</th>\n",
       "      <th>fixed acidity</th>\n",
       "      <th>volatile acidity</th>\n",
       "      <th>citric acid</th>\n",
       "      <th>residual sugar</th>\n",
       "      <th>chlorides</th>\n",
       "      <th>free sulfur dioxide</th>\n",
       "      <th>total sulfur dioxide</th>\n",
       "      <th>density</th>\n",
       "      <th>pH</th>\n",
       "      <th>sulphates</th>\n",
       "      <th>alcohol</th>\n",
       "      <th>quality</th>\n",
       "    </tr>\n",
       "  </thead>\n",
       "  <tbody>\n",
       "    <tr>\n",
       "      <th>0</th>\n",
       "      <td>0</td>\n",
       "      <td>7.7</td>\n",
       "      <td>0.63</td>\n",
       "      <td>0.00</td>\n",
       "      <td>2.4</td>\n",
       "      <td>0.078</td>\n",
       "      <td>4.0</td>\n",
       "      <td>14.0</td>\n",
       "      <td>0.99650</td>\n",
       "      <td>3.31</td>\n",
       "      <td>0.53</td>\n",
       "      <td>9.2</td>\n",
       "      <td>5.0</td>\n",
       "    </tr>\n",
       "    <tr>\n",
       "      <th>1</th>\n",
       "      <td>1</td>\n",
       "      <td>6.8</td>\n",
       "      <td>0.48</td>\n",
       "      <td>0.32</td>\n",
       "      <td>2.5</td>\n",
       "      <td>0.086</td>\n",
       "      <td>33.0</td>\n",
       "      <td>58.0</td>\n",
       "      <td>0.99740</td>\n",
       "      <td>3.53</td>\n",
       "      <td>0.49</td>\n",
       "      <td>9.7</td>\n",
       "      <td>6.0</td>\n",
       "    </tr>\n",
       "    <tr>\n",
       "      <th>2</th>\n",
       "      <td>2</td>\n",
       "      <td>6.4</td>\n",
       "      <td>0.59</td>\n",
       "      <td>0.01</td>\n",
       "      <td>2.8</td>\n",
       "      <td>0.086</td>\n",
       "      <td>3.0</td>\n",
       "      <td>10.0</td>\n",
       "      <td>0.99716</td>\n",
       "      <td>3.45</td>\n",
       "      <td>0.49</td>\n",
       "      <td>9.5</td>\n",
       "      <td>6.0</td>\n",
       "    </tr>\n",
       "    <tr>\n",
       "      <th>3</th>\n",
       "      <td>3</td>\n",
       "      <td>7.0</td>\n",
       "      <td>0.74</td>\n",
       "      <td>0.24</td>\n",
       "      <td>2.1</td>\n",
       "      <td>0.072</td>\n",
       "      <td>14.0</td>\n",
       "      <td>28.0</td>\n",
       "      <td>0.99498</td>\n",
       "      <td>3.37</td>\n",
       "      <td>0.52</td>\n",
       "      <td>10.4</td>\n",
       "      <td>5.0</td>\n",
       "    </tr>\n",
       "    <tr>\n",
       "      <th>4</th>\n",
       "      <td>4</td>\n",
       "      <td>11.5</td>\n",
       "      <td>0.32</td>\n",
       "      <td>0.32</td>\n",
       "      <td>2.8</td>\n",
       "      <td>0.082</td>\n",
       "      <td>14.0</td>\n",
       "      <td>37.0</td>\n",
       "      <td>0.99560</td>\n",
       "      <td>3.60</td>\n",
       "      <td>0.65</td>\n",
       "      <td>12.3</td>\n",
       "      <td>6.0</td>\n",
       "    </tr>\n",
       "  </tbody>\n",
       "</table>\n",
       "</div>"
      ],
      "text/plain": [
       "   id  fixed acidity  volatile acidity  citric acid  residual sugar  \\\n",
       "0   0            7.7              0.63         0.00             2.4   \n",
       "1   1            6.8              0.48         0.32             2.5   \n",
       "2   2            6.4              0.59         0.01             2.8   \n",
       "3   3            7.0              0.74         0.24             2.1   \n",
       "4   4           11.5              0.32         0.32             2.8   \n",
       "\n",
       "   chlorides  free sulfur dioxide  total sulfur dioxide  density    pH  \\\n",
       "0      0.078                  4.0                  14.0  0.99650  3.31   \n",
       "1      0.086                 33.0                  58.0  0.99740  3.53   \n",
       "2      0.086                  3.0                  10.0  0.99716  3.45   \n",
       "3      0.072                 14.0                  28.0  0.99498  3.37   \n",
       "4      0.082                 14.0                  37.0  0.99560  3.60   \n",
       "\n",
       "   sulphates  alcohol  quality  \n",
       "0       0.53      9.2      5.0  \n",
       "1       0.49      9.7      6.0  \n",
       "2       0.49      9.5      6.0  \n",
       "3       0.52     10.4      5.0  \n",
       "4       0.65     12.3      6.0  "
      ]
     },
     "execution_count": 9,
     "metadata": {},
     "output_type": "execute_result"
    }
   ],
   "source": [
    "data.head()"
   ]
  }
 ],
 "metadata": {
  "kernelspec": {
   "display_name": "Python 3 (ipykernel)",
   "language": "python",
   "name": "python3"
  },
  "language_info": {
   "codemirror_mode": {
    "name": "ipython",
    "version": 3
   },
   "file_extension": ".py",
   "mimetype": "text/x-python",
   "name": "python",
   "nbconvert_exporter": "python",
   "pygments_lexer": "ipython3",
   "version": "3.12.7"
  }
 },
 "nbformat": 4,
 "nbformat_minor": 5
}
