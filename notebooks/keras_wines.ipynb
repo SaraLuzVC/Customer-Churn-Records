{
 "cells": [
  {
   "cell_type": "markdown",
   "id": "ed4509bc-12b3-44c8-b8fe-d9fd2c15a0f6",
   "metadata": {},
   "source": [
    "# Probabilistic Bayesian Neural Networks\n",
    "https://keras.io/examples/keras_recipes/bayesian_neural_networks/"
   ]
  },
  {
   "cell_type": "markdown",
   "id": "407ed0b6-4b26-4c8e-bef4-edfa51780894",
   "metadata": {},
   "source": [
    "## Ambiente\n",
    "Creamos un ambiente con la paquetería necesaria\n",
    "\n",
    "``conda create -n env_tf_bayes``\n",
    "\n",
    "``conda activate env_tf_bayes``\n",
    "\n",
    "``pip install tensorflow-probability``\n",
    "\n",
    "``pip install tensorflow-datasets``"
   ]
  },
  {
   "cell_type": "markdown",
   "id": "cd76a638-eb0c-4d0b-8cf4-2bd7212040ad",
   "metadata": {},
   "source": [
    "## Bibliotecas"
   ]
  },
  {
   "cell_type": "code",
   "execution_count": 1,
   "id": "dff99bd0-ad24-4d72-b1f0-a9cacbe1636a",
   "metadata": {},
   "outputs": [
    {
     "name": "stdout",
     "output_type": "stream",
     "text": [
      "WARNING:tensorflow:From C:\\Users\\Sara_Valenzuela\\AppData\\Local\\miniconda3\\Lib\\site-packages\\tf_keras\\src\\losses.py:2976: The name tf.losses.sparse_softmax_cross_entropy is deprecated. Please use tf.compat.v1.losses.sparse_softmax_cross_entropy instead.\n",
      "\n",
      "WARNING:tensorflow:From C:\\Users\\Sara_Valenzuela\\AppData\\Local\\miniconda3\\Lib\\site-packages\\tensorflow_probability\\python\\internal\\backend\\numpy\\_utils.py:48: The name tf.logging.TaskLevelStatusMessage is deprecated. Please use tf.compat.v1.logging.TaskLevelStatusMessage instead.\n",
      "\n",
      "WARNING:tensorflow:From C:\\Users\\Sara_Valenzuela\\AppData\\Local\\miniconda3\\Lib\\site-packages\\tensorflow_probability\\python\\internal\\backend\\numpy\\_utils.py:48: The name tf.control_flow_v2_enabled is deprecated. Please use tf.compat.v1.control_flow_v2_enabled instead.\n",
      "\n"
     ]
    }
   ],
   "source": [
    "import numpy as np\n",
    "import tensorflow as tf\n",
    "from tensorflow import keras\n",
    "from tensorflow.keras import layers\n",
    "import tensorflow_datasets as tfds\n",
    "import tensorflow_probability as tfp"
   ]
  },
  {
   "cell_type": "code",
   "execution_count": 3,
   "id": "56246ec8-95ed-487f-8afe-d091800ac7ab",
   "metadata": {},
   "outputs": [],
   "source": [
    "dataset = (\n",
    "        tfds.load(name=\"wine_quality\", as_supervised=True, split=\"train\")\n",
    "        .map(lambda x, y: (x, tf.cast(y, tf.float32)))\n",
    "        .prefetch(buffer_size=4898)\n",
    "        .cache()\n",
    "    )"
   ]
  },
  {
   "cell_type": "code",
   "execution_count": 4,
   "id": "1e2a7bd8-9f2f-4a5e-ae07-c9dce6488931",
   "metadata": {},
   "outputs": [
    {
     "data": {
      "text/plain": [
       "<CacheDataset element_spec=({'alcohol': TensorSpec(shape=(), dtype=tf.float32, name=None), 'chlorides': TensorSpec(shape=(), dtype=tf.float32, name=None), 'citric acid': TensorSpec(shape=(), dtype=tf.float32, name=None), 'density': TensorSpec(shape=(), dtype=tf.float32, name=None), 'fixed acidity': TensorSpec(shape=(), dtype=tf.float32, name=None), 'free sulfur dioxide': TensorSpec(shape=(), dtype=tf.float32, name=None), 'pH': TensorSpec(shape=(), dtype=tf.float32, name=None), 'residual sugar': TensorSpec(shape=(), dtype=tf.float32, name=None), 'sulphates': TensorSpec(shape=(), dtype=tf.float64, name=None), 'total sulfur dioxide': TensorSpec(shape=(), dtype=tf.float32, name=None), 'volatile acidity': TensorSpec(shape=(), dtype=tf.float32, name=None)}, TensorSpec(shape=(), dtype=tf.float32, name=None))>"
      ]
     },
     "execution_count": 4,
     "metadata": {},
     "output_type": "execute_result"
    }
   ],
   "source": [
    "dataset"
   ]
  },
  {
   "cell_type": "code",
   "execution_count": null,
   "id": "6d6cab3b-1fae-4ec4-9884-047bb53f0c67",
   "metadata": {},
   "outputs": [],
   "source": []
  }
 ],
 "metadata": {
  "kernelspec": {
   "display_name": "Python 3 (ipykernel)",
   "language": "python",
   "name": "python3"
  },
  "language_info": {
   "codemirror_mode": {
    "name": "ipython",
    "version": 3
   },
   "file_extension": ".py",
   "mimetype": "text/x-python",
   "name": "python",
   "nbconvert_exporter": "python",
   "pygments_lexer": "ipython3",
   "version": "3.12.7"
  }
 },
 "nbformat": 4,
 "nbformat_minor": 5
}
